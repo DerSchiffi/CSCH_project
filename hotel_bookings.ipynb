{
 "cells": [
  {
   "cell_type": "markdown",
   "id": "2631c558",
   "metadata": {},
   "source": [
    "### Praktische Prüfungsleistung\n",
    "**Studiengang:** Zertifikat Data Analytics (DA) <br>\n",
    "**Semester:** SoSe 2022 <br>\n",
    "**Veranstaltung:** Praktische Datenanalyse <br>\n",
    "**Matrikelnummer:** 3046496 <br>\n",
    "**Name, Vorname:** Schiffmann, Christian <br>\n",
    "**Datum:** 13.09.2022 <br>"
   ]
  },
  {
   "cell_type": "markdown",
   "id": "48666115",
   "metadata": {},
   "source": [
    "<hr style=\"border:1px solid gray\">"
   ]
  },
  {
   "cell_type": "markdown",
   "id": "a82bc2b7",
   "metadata": {},
   "source": [
    "## Inhaltsverzeichnis:\n",
    "\n",
    "1. [Einleitung und Requirements](#intro)<br>\n",
    "    a. [Kontext der Datenanalyse](#introduction1) <br>\n",
    "    b. [Aufbau und Ablauf der Datenanalyse](#introduction2)<br>\n",
    "    c. [Ziel Key Performance Indikatoren](#introduction3)<br>\n",
    "    d. [Requirements und Systemanforderungen](#introduction4)<br>\n",
    "2. [Data Understanding and Exploratory Data Analysis](#Collection)<br>\n",
    "3. [Data Cleaning and Preparation](#Cleaning)\n",
    "6. [Modelling](#ML)\n",
    "7. [Modelloptimierungen](#Optimization)\n",
    "8. [Ergebnispräsentation](#Present)\n",
    "9. [Abschlussbericht und Emfehlungen](#Recommendation)"
   ]
  },
  {
   "cell_type": "markdown",
   "id": "f321fcb3",
   "metadata": {},
   "source": [
    "## 1. Einleitung und Requirements <a name=\"intro\"></a>"
   ]
  },
  {
   "cell_type": "markdown",
   "id": "40f97ed8",
   "metadata": {},
   "source": [
    "### 1.X. Requirements <a name=\"introduction4\"></a>\n",
    "\n",
    "Für die Datenanalyse werden eine Reihe von Libraries und Packages auf der Basis von Python genutzt, die die Analyse vereinfachen sollen. Anbei finden Sie eine kurze Aufführung der verwendeten Packages, Versionsnummern und eine kurze Beschreibung des Verwendungszweckes.\n",
    "\n",
    "| Package  | Versionsnummer | Zweck |\n",
    "|:--|:-:|:--|\n",
    "| [Pandas](https://pandas.pydata.org/docs/) | 1.3.4 | Grundlegendes Package zur Manipulation und Transformation der Datensets |\n",
    "| [Seaborn](https://seaborn.pydata.org/) | 0.11.2  | Package basierend auf Matplotlib für schnelle Visualisierungen von Daten  |\n",
    "| [NumPy](https://numpy.org/) | 1.20.3 | Python-Bibliothek, die ein mehrdimensionales Array-Objekt, verschiedene abgeleitete Objekte (z. B. maskierte Arrays und Matrizen) und eine Reihe von Routinen für schnelle Operationen auf Arrays bereitstellt |\n",
    "| [Matplotlib](https://matplotlib.org/) | 3.4.3 | Matplotlib ist eine umfassende Bibliothek zur Erstellung statischer, animierter und interaktiver Visualisierungen in Python |\n",
    "| [Scipy](https://www.scipy.org/) | 1.7.1 | Das SciPy-Ökosystem umfasst allgemeine und spezielle Tools für die Datenverwaltung und -berechnung, produktive Experimente und Hochleistungsberechnungen |\n",
    "| [Sklearn](https://scikit-learn.org/stable/) | 0.24.2 | Einfache und effiziente Tools für die prädiktive Datenanalyse |\n",
    "| [Geopandas](https://geopandas.org/en/stable/) | 0.9.0 | GeoPandas ist ein Open-Source-Projekt, das die Arbeit mit Geodaten in Python erleichtert |\n",
    "\n",
    "\n",
    "Lasst uns die folgenden Packages in unsere Umgebung laden."
   ]
  },
  {
   "cell_type": "code",
   "execution_count": 1,
   "id": "c15469d9",
   "metadata": {},
   "outputs": [
    {
     "name": "stderr",
     "output_type": "stream",
     "text": [
      "PROJ: proj_create_from_database: SQLite error on SELECT name, type, coordinate_system_auth_name, coordinate_system_code, datum_auth_name, datum_code, area_of_use_auth_name, area_of_use_code, text_definition, deprecated FROM geodetic_crs WHERE auth_name = ? AND code = ?: no such column: area_of_use_auth_name\n"
     ]
    },
    {
     "name": "stdout",
     "output_type": "stream",
     "text": [
      "Sklearn: 0.24.2\n",
      "Scipy: 1.7.1\n",
      "Matplotlib: 3.4.3\n",
      "NumPy: 1.20.3\n",
      "Seaborn: 0.11.2\n",
      "Pandas: 1.3.4\n",
      "Geopandas: 0.9.0\n"
     ]
    }
   ],
   "source": [
    "import pandas as pd\n",
    "import numpy as np\n",
    "import datetime as dt\n",
    "\n",
    "from scipy import stats\n",
    "import scipy\n",
    "\n",
    "import matplotlib.pyplot as plt\n",
    "import matplotlib\n",
    "\n",
    "import seaborn as sns\n",
    "\n",
    "import geopandas as gpd\n",
    "import plotly.express as px\n",
    "import dash\n",
    "\n",
    "# Import sci-kit learn functions for modelling\n",
    "from sklearn.model_selection import train_test_split\n",
    "from sklearn.tree import DecisionTreeClassifier, plot_tree\n",
    "from sklearn.metrics import precision_score, recall_score\n",
    "from sklearn.decomposition import PCA\n",
    "from sklearn.preprocessing import StandardScaler\n",
    "from sklearn.cluster import KMeans\n",
    "\n",
    "import sklearn\n",
    "\n",
    "print('Sklearn:',sklearn.__version__)\n",
    "print('Scipy:',scipy.__version__)\n",
    "print('Matplotlib:',matplotlib.__version__)\n",
    "print('NumPy:',np.__version__)\n",
    "print('Seaborn:',sns.__version__)\n",
    "print('Pandas:',pd.__version__)\n",
    "print('Geopandas:',gpd.__version__)"
   ]
  },
  {
   "cell_type": "code",
   "execution_count": 2,
   "id": "2c3ddebd",
   "metadata": {},
   "outputs": [
    {
     "name": "stdout",
     "output_type": "stream",
     "text": [
      "Umfang Datensatz:  (119390, 32) \n",
      "\n"
     ]
    }
   ],
   "source": [
    "##Daten zu Hotel Buchungen \n",
    "df = pd.read_csv(\"data\\hotel_bookings.csv\")\n",
    "print('Umfang Datensatz: ',df.shape, '\\n')"
   ]
  },
  {
   "cell_type": "code",
   "execution_count": 3,
   "id": "3f5875e3",
   "metadata": {
    "scrolled": true
   },
   "outputs": [
    {
     "data": {
      "text/html": [
       "<div>\n",
       "<style scoped>\n",
       "    .dataframe tbody tr th:only-of-type {\n",
       "        vertical-align: middle;\n",
       "    }\n",
       "\n",
       "    .dataframe tbody tr th {\n",
       "        vertical-align: top;\n",
       "    }\n",
       "\n",
       "    .dataframe thead th {\n",
       "        text-align: right;\n",
       "    }\n",
       "</style>\n",
       "<table border=\"1\" class=\"dataframe\">\n",
       "  <thead>\n",
       "    <tr style=\"text-align: right;\">\n",
       "      <th></th>\n",
       "      <th>hotel</th>\n",
       "      <th>is_canceled</th>\n",
       "      <th>lead_time</th>\n",
       "      <th>arrival_date_year</th>\n",
       "      <th>arrival_date_month</th>\n",
       "      <th>arrival_date_week_number</th>\n",
       "      <th>arrival_date_day_of_month</th>\n",
       "      <th>stays_in_weekend_nights</th>\n",
       "      <th>stays_in_week_nights</th>\n",
       "      <th>adults</th>\n",
       "      <th>...</th>\n",
       "      <th>deposit_type</th>\n",
       "      <th>agent</th>\n",
       "      <th>company</th>\n",
       "      <th>days_in_waiting_list</th>\n",
       "      <th>customer_type</th>\n",
       "      <th>adr</th>\n",
       "      <th>required_car_parking_spaces</th>\n",
       "      <th>total_of_special_requests</th>\n",
       "      <th>reservation_status</th>\n",
       "      <th>reservation_status_date</th>\n",
       "    </tr>\n",
       "  </thead>\n",
       "  <tbody>\n",
       "    <tr>\n",
       "      <th>0</th>\n",
       "      <td>Resort Hotel</td>\n",
       "      <td>0</td>\n",
       "      <td>342</td>\n",
       "      <td>2015</td>\n",
       "      <td>July</td>\n",
       "      <td>27</td>\n",
       "      <td>1</td>\n",
       "      <td>0</td>\n",
       "      <td>0</td>\n",
       "      <td>2</td>\n",
       "      <td>...</td>\n",
       "      <td>No Deposit</td>\n",
       "      <td>NaN</td>\n",
       "      <td>NaN</td>\n",
       "      <td>0</td>\n",
       "      <td>Transient</td>\n",
       "      <td>0.0</td>\n",
       "      <td>0</td>\n",
       "      <td>0</td>\n",
       "      <td>Check-Out</td>\n",
       "      <td>2015-07-01</td>\n",
       "    </tr>\n",
       "    <tr>\n",
       "      <th>1</th>\n",
       "      <td>Resort Hotel</td>\n",
       "      <td>0</td>\n",
       "      <td>737</td>\n",
       "      <td>2015</td>\n",
       "      <td>July</td>\n",
       "      <td>27</td>\n",
       "      <td>1</td>\n",
       "      <td>0</td>\n",
       "      <td>0</td>\n",
       "      <td>2</td>\n",
       "      <td>...</td>\n",
       "      <td>No Deposit</td>\n",
       "      <td>NaN</td>\n",
       "      <td>NaN</td>\n",
       "      <td>0</td>\n",
       "      <td>Transient</td>\n",
       "      <td>0.0</td>\n",
       "      <td>0</td>\n",
       "      <td>0</td>\n",
       "      <td>Check-Out</td>\n",
       "      <td>2015-07-01</td>\n",
       "    </tr>\n",
       "    <tr>\n",
       "      <th>2</th>\n",
       "      <td>Resort Hotel</td>\n",
       "      <td>0</td>\n",
       "      <td>7</td>\n",
       "      <td>2015</td>\n",
       "      <td>July</td>\n",
       "      <td>27</td>\n",
       "      <td>1</td>\n",
       "      <td>0</td>\n",
       "      <td>1</td>\n",
       "      <td>1</td>\n",
       "      <td>...</td>\n",
       "      <td>No Deposit</td>\n",
       "      <td>NaN</td>\n",
       "      <td>NaN</td>\n",
       "      <td>0</td>\n",
       "      <td>Transient</td>\n",
       "      <td>75.0</td>\n",
       "      <td>0</td>\n",
       "      <td>0</td>\n",
       "      <td>Check-Out</td>\n",
       "      <td>2015-07-02</td>\n",
       "    </tr>\n",
       "    <tr>\n",
       "      <th>3</th>\n",
       "      <td>Resort Hotel</td>\n",
       "      <td>0</td>\n",
       "      <td>13</td>\n",
       "      <td>2015</td>\n",
       "      <td>July</td>\n",
       "      <td>27</td>\n",
       "      <td>1</td>\n",
       "      <td>0</td>\n",
       "      <td>1</td>\n",
       "      <td>1</td>\n",
       "      <td>...</td>\n",
       "      <td>No Deposit</td>\n",
       "      <td>304.0</td>\n",
       "      <td>NaN</td>\n",
       "      <td>0</td>\n",
       "      <td>Transient</td>\n",
       "      <td>75.0</td>\n",
       "      <td>0</td>\n",
       "      <td>0</td>\n",
       "      <td>Check-Out</td>\n",
       "      <td>2015-07-02</td>\n",
       "    </tr>\n",
       "    <tr>\n",
       "      <th>4</th>\n",
       "      <td>Resort Hotel</td>\n",
       "      <td>0</td>\n",
       "      <td>14</td>\n",
       "      <td>2015</td>\n",
       "      <td>July</td>\n",
       "      <td>27</td>\n",
       "      <td>1</td>\n",
       "      <td>0</td>\n",
       "      <td>2</td>\n",
       "      <td>2</td>\n",
       "      <td>...</td>\n",
       "      <td>No Deposit</td>\n",
       "      <td>240.0</td>\n",
       "      <td>NaN</td>\n",
       "      <td>0</td>\n",
       "      <td>Transient</td>\n",
       "      <td>98.0</td>\n",
       "      <td>0</td>\n",
       "      <td>1</td>\n",
       "      <td>Check-Out</td>\n",
       "      <td>2015-07-03</td>\n",
       "    </tr>\n",
       "  </tbody>\n",
       "</table>\n",
       "<p>5 rows × 32 columns</p>\n",
       "</div>"
      ],
      "text/plain": [
       "          hotel  is_canceled  lead_time  arrival_date_year arrival_date_month  \\\n",
       "0  Resort Hotel            0        342               2015               July   \n",
       "1  Resort Hotel            0        737               2015               July   \n",
       "2  Resort Hotel            0          7               2015               July   \n",
       "3  Resort Hotel            0         13               2015               July   \n",
       "4  Resort Hotel            0         14               2015               July   \n",
       "\n",
       "   arrival_date_week_number  arrival_date_day_of_month  \\\n",
       "0                        27                          1   \n",
       "1                        27                          1   \n",
       "2                        27                          1   \n",
       "3                        27                          1   \n",
       "4                        27                          1   \n",
       "\n",
       "   stays_in_weekend_nights  stays_in_week_nights  adults  ...  deposit_type  \\\n",
       "0                        0                     0       2  ...    No Deposit   \n",
       "1                        0                     0       2  ...    No Deposit   \n",
       "2                        0                     1       1  ...    No Deposit   \n",
       "3                        0                     1       1  ...    No Deposit   \n",
       "4                        0                     2       2  ...    No Deposit   \n",
       "\n",
       "   agent company days_in_waiting_list customer_type   adr  \\\n",
       "0    NaN     NaN                    0     Transient   0.0   \n",
       "1    NaN     NaN                    0     Transient   0.0   \n",
       "2    NaN     NaN                    0     Transient  75.0   \n",
       "3  304.0     NaN                    0     Transient  75.0   \n",
       "4  240.0     NaN                    0     Transient  98.0   \n",
       "\n",
       "   required_car_parking_spaces  total_of_special_requests  reservation_status  \\\n",
       "0                            0                          0           Check-Out   \n",
       "1                            0                          0           Check-Out   \n",
       "2                            0                          0           Check-Out   \n",
       "3                            0                          0           Check-Out   \n",
       "4                            0                          1           Check-Out   \n",
       "\n",
       "  reservation_status_date  \n",
       "0              2015-07-01  \n",
       "1              2015-07-01  \n",
       "2              2015-07-02  \n",
       "3              2015-07-02  \n",
       "4              2015-07-03  \n",
       "\n",
       "[5 rows x 32 columns]"
      ]
     },
     "execution_count": 3,
     "metadata": {},
     "output_type": "execute_result"
    }
   ],
   "source": [
    "df.head()"
   ]
  },
  {
   "cell_type": "code",
   "execution_count": 4,
   "id": "83cb39ee",
   "metadata": {},
   "outputs": [
    {
     "name": "stdout",
     "output_type": "stream",
     "text": [
      "<class 'pandas.core.frame.DataFrame'>\n",
      "RangeIndex: 119390 entries, 0 to 119389\n",
      "Data columns (total 32 columns):\n",
      " #   Column                          Non-Null Count   Dtype  \n",
      "---  ------                          --------------   -----  \n",
      " 0   hotel                           119390 non-null  object \n",
      " 1   is_canceled                     119390 non-null  int64  \n",
      " 2   lead_time                       119390 non-null  int64  \n",
      " 3   arrival_date_year               119390 non-null  int64  \n",
      " 4   arrival_date_month              119390 non-null  object \n",
      " 5   arrival_date_week_number        119390 non-null  int64  \n",
      " 6   arrival_date_day_of_month       119390 non-null  int64  \n",
      " 7   stays_in_weekend_nights         119390 non-null  int64  \n",
      " 8   stays_in_week_nights            119390 non-null  int64  \n",
      " 9   adults                          119390 non-null  int64  \n",
      " 10  children                        119386 non-null  float64\n",
      " 11  babies                          119390 non-null  int64  \n",
      " 12  meal                            119390 non-null  object \n",
      " 13  country                         118902 non-null  object \n",
      " 14  market_segment                  119390 non-null  object \n",
      " 15  distribution_channel            119390 non-null  object \n",
      " 16  is_repeated_guest               119390 non-null  int64  \n",
      " 17  previous_cancellations          119390 non-null  int64  \n",
      " 18  previous_bookings_not_canceled  119390 non-null  int64  \n",
      " 19  reserved_room_type              119390 non-null  object \n",
      " 20  assigned_room_type              119390 non-null  object \n",
      " 21  booking_changes                 119390 non-null  int64  \n",
      " 22  deposit_type                    119390 non-null  object \n",
      " 23  agent                           103050 non-null  float64\n",
      " 24  company                         6797 non-null    float64\n",
      " 25  days_in_waiting_list            119390 non-null  int64  \n",
      " 26  customer_type                   119390 non-null  object \n",
      " 27  adr                             119390 non-null  float64\n",
      " 28  required_car_parking_spaces     119390 non-null  int64  \n",
      " 29  total_of_special_requests       119390 non-null  int64  \n",
      " 30  reservation_status              119390 non-null  object \n",
      " 31  reservation_status_date         119390 non-null  object \n",
      "dtypes: float64(4), int64(16), object(12)\n",
      "memory usage: 29.1+ MB\n",
      "None\n"
     ]
    }
   ],
   "source": [
    "print(df.info())"
   ]
  },
  {
   "cell_type": "code",
   "execution_count": 5,
   "id": "39030151",
   "metadata": {
    "scrolled": true
   },
   "outputs": [
    {
     "data": {
      "text/html": [
       "<div>\n",
       "<style scoped>\n",
       "    .dataframe tbody tr th:only-of-type {\n",
       "        vertical-align: middle;\n",
       "    }\n",
       "\n",
       "    .dataframe tbody tr th {\n",
       "        vertical-align: top;\n",
       "    }\n",
       "\n",
       "    .dataframe thead th {\n",
       "        text-align: right;\n",
       "    }\n",
       "</style>\n",
       "<table border=\"1\" class=\"dataframe\">\n",
       "  <thead>\n",
       "    <tr style=\"text-align: right;\">\n",
       "      <th></th>\n",
       "      <th>is_canceled</th>\n",
       "      <th>lead_time</th>\n",
       "      <th>arrival_date_year</th>\n",
       "      <th>arrival_date_week_number</th>\n",
       "      <th>arrival_date_day_of_month</th>\n",
       "      <th>stays_in_weekend_nights</th>\n",
       "      <th>stays_in_week_nights</th>\n",
       "      <th>adults</th>\n",
       "      <th>children</th>\n",
       "      <th>babies</th>\n",
       "      <th>is_repeated_guest</th>\n",
       "      <th>previous_cancellations</th>\n",
       "      <th>previous_bookings_not_canceled</th>\n",
       "      <th>booking_changes</th>\n",
       "      <th>agent</th>\n",
       "      <th>company</th>\n",
       "      <th>days_in_waiting_list</th>\n",
       "      <th>adr</th>\n",
       "      <th>required_car_parking_spaces</th>\n",
       "      <th>total_of_special_requests</th>\n",
       "    </tr>\n",
       "  </thead>\n",
       "  <tbody>\n",
       "    <tr>\n",
       "      <th>count</th>\n",
       "      <td>119390.000000</td>\n",
       "      <td>119390.000000</td>\n",
       "      <td>119390.000000</td>\n",
       "      <td>119390.000000</td>\n",
       "      <td>119390.000000</td>\n",
       "      <td>119390.000000</td>\n",
       "      <td>119390.000000</td>\n",
       "      <td>119390.000000</td>\n",
       "      <td>119386.000000</td>\n",
       "      <td>119390.000000</td>\n",
       "      <td>119390.000000</td>\n",
       "      <td>119390.000000</td>\n",
       "      <td>119390.000000</td>\n",
       "      <td>119390.000000</td>\n",
       "      <td>103050.000000</td>\n",
       "      <td>6797.000000</td>\n",
       "      <td>119390.000000</td>\n",
       "      <td>119390.000000</td>\n",
       "      <td>119390.000000</td>\n",
       "      <td>119390.000000</td>\n",
       "    </tr>\n",
       "    <tr>\n",
       "      <th>mean</th>\n",
       "      <td>0.370416</td>\n",
       "      <td>104.011416</td>\n",
       "      <td>2016.156554</td>\n",
       "      <td>27.165173</td>\n",
       "      <td>15.798241</td>\n",
       "      <td>0.927599</td>\n",
       "      <td>2.500302</td>\n",
       "      <td>1.856403</td>\n",
       "      <td>0.103890</td>\n",
       "      <td>0.007949</td>\n",
       "      <td>0.031912</td>\n",
       "      <td>0.087118</td>\n",
       "      <td>0.137097</td>\n",
       "      <td>0.221124</td>\n",
       "      <td>86.693382</td>\n",
       "      <td>189.266735</td>\n",
       "      <td>2.321149</td>\n",
       "      <td>101.831122</td>\n",
       "      <td>0.062518</td>\n",
       "      <td>0.571363</td>\n",
       "    </tr>\n",
       "    <tr>\n",
       "      <th>std</th>\n",
       "      <td>0.482918</td>\n",
       "      <td>106.863097</td>\n",
       "      <td>0.707476</td>\n",
       "      <td>13.605138</td>\n",
       "      <td>8.780829</td>\n",
       "      <td>0.998613</td>\n",
       "      <td>1.908286</td>\n",
       "      <td>0.579261</td>\n",
       "      <td>0.398561</td>\n",
       "      <td>0.097436</td>\n",
       "      <td>0.175767</td>\n",
       "      <td>0.844336</td>\n",
       "      <td>1.497437</td>\n",
       "      <td>0.652306</td>\n",
       "      <td>110.774548</td>\n",
       "      <td>131.655015</td>\n",
       "      <td>17.594721</td>\n",
       "      <td>50.535790</td>\n",
       "      <td>0.245291</td>\n",
       "      <td>0.792798</td>\n",
       "    </tr>\n",
       "    <tr>\n",
       "      <th>min</th>\n",
       "      <td>0.000000</td>\n",
       "      <td>0.000000</td>\n",
       "      <td>2015.000000</td>\n",
       "      <td>1.000000</td>\n",
       "      <td>1.000000</td>\n",
       "      <td>0.000000</td>\n",
       "      <td>0.000000</td>\n",
       "      <td>0.000000</td>\n",
       "      <td>0.000000</td>\n",
       "      <td>0.000000</td>\n",
       "      <td>0.000000</td>\n",
       "      <td>0.000000</td>\n",
       "      <td>0.000000</td>\n",
       "      <td>0.000000</td>\n",
       "      <td>1.000000</td>\n",
       "      <td>6.000000</td>\n",
       "      <td>0.000000</td>\n",
       "      <td>-6.380000</td>\n",
       "      <td>0.000000</td>\n",
       "      <td>0.000000</td>\n",
       "    </tr>\n",
       "    <tr>\n",
       "      <th>25%</th>\n",
       "      <td>0.000000</td>\n",
       "      <td>18.000000</td>\n",
       "      <td>2016.000000</td>\n",
       "      <td>16.000000</td>\n",
       "      <td>8.000000</td>\n",
       "      <td>0.000000</td>\n",
       "      <td>1.000000</td>\n",
       "      <td>2.000000</td>\n",
       "      <td>0.000000</td>\n",
       "      <td>0.000000</td>\n",
       "      <td>0.000000</td>\n",
       "      <td>0.000000</td>\n",
       "      <td>0.000000</td>\n",
       "      <td>0.000000</td>\n",
       "      <td>9.000000</td>\n",
       "      <td>62.000000</td>\n",
       "      <td>0.000000</td>\n",
       "      <td>69.290000</td>\n",
       "      <td>0.000000</td>\n",
       "      <td>0.000000</td>\n",
       "    </tr>\n",
       "    <tr>\n",
       "      <th>50%</th>\n",
       "      <td>0.000000</td>\n",
       "      <td>69.000000</td>\n",
       "      <td>2016.000000</td>\n",
       "      <td>28.000000</td>\n",
       "      <td>16.000000</td>\n",
       "      <td>1.000000</td>\n",
       "      <td>2.000000</td>\n",
       "      <td>2.000000</td>\n",
       "      <td>0.000000</td>\n",
       "      <td>0.000000</td>\n",
       "      <td>0.000000</td>\n",
       "      <td>0.000000</td>\n",
       "      <td>0.000000</td>\n",
       "      <td>0.000000</td>\n",
       "      <td>14.000000</td>\n",
       "      <td>179.000000</td>\n",
       "      <td>0.000000</td>\n",
       "      <td>94.575000</td>\n",
       "      <td>0.000000</td>\n",
       "      <td>0.000000</td>\n",
       "    </tr>\n",
       "    <tr>\n",
       "      <th>75%</th>\n",
       "      <td>1.000000</td>\n",
       "      <td>160.000000</td>\n",
       "      <td>2017.000000</td>\n",
       "      <td>38.000000</td>\n",
       "      <td>23.000000</td>\n",
       "      <td>2.000000</td>\n",
       "      <td>3.000000</td>\n",
       "      <td>2.000000</td>\n",
       "      <td>0.000000</td>\n",
       "      <td>0.000000</td>\n",
       "      <td>0.000000</td>\n",
       "      <td>0.000000</td>\n",
       "      <td>0.000000</td>\n",
       "      <td>0.000000</td>\n",
       "      <td>229.000000</td>\n",
       "      <td>270.000000</td>\n",
       "      <td>0.000000</td>\n",
       "      <td>126.000000</td>\n",
       "      <td>0.000000</td>\n",
       "      <td>1.000000</td>\n",
       "    </tr>\n",
       "    <tr>\n",
       "      <th>max</th>\n",
       "      <td>1.000000</td>\n",
       "      <td>737.000000</td>\n",
       "      <td>2017.000000</td>\n",
       "      <td>53.000000</td>\n",
       "      <td>31.000000</td>\n",
       "      <td>19.000000</td>\n",
       "      <td>50.000000</td>\n",
       "      <td>55.000000</td>\n",
       "      <td>10.000000</td>\n",
       "      <td>10.000000</td>\n",
       "      <td>1.000000</td>\n",
       "      <td>26.000000</td>\n",
       "      <td>72.000000</td>\n",
       "      <td>21.000000</td>\n",
       "      <td>535.000000</td>\n",
       "      <td>543.000000</td>\n",
       "      <td>391.000000</td>\n",
       "      <td>5400.000000</td>\n",
       "      <td>8.000000</td>\n",
       "      <td>5.000000</td>\n",
       "    </tr>\n",
       "  </tbody>\n",
       "</table>\n",
       "</div>"
      ],
      "text/plain": [
       "         is_canceled      lead_time  arrival_date_year  \\\n",
       "count  119390.000000  119390.000000      119390.000000   \n",
       "mean        0.370416     104.011416        2016.156554   \n",
       "std         0.482918     106.863097           0.707476   \n",
       "min         0.000000       0.000000        2015.000000   \n",
       "25%         0.000000      18.000000        2016.000000   \n",
       "50%         0.000000      69.000000        2016.000000   \n",
       "75%         1.000000     160.000000        2017.000000   \n",
       "max         1.000000     737.000000        2017.000000   \n",
       "\n",
       "       arrival_date_week_number  arrival_date_day_of_month  \\\n",
       "count             119390.000000              119390.000000   \n",
       "mean                  27.165173                  15.798241   \n",
       "std                   13.605138                   8.780829   \n",
       "min                    1.000000                   1.000000   \n",
       "25%                   16.000000                   8.000000   \n",
       "50%                   28.000000                  16.000000   \n",
       "75%                   38.000000                  23.000000   \n",
       "max                   53.000000                  31.000000   \n",
       "\n",
       "       stays_in_weekend_nights  stays_in_week_nights         adults  \\\n",
       "count            119390.000000         119390.000000  119390.000000   \n",
       "mean                  0.927599              2.500302       1.856403   \n",
       "std                   0.998613              1.908286       0.579261   \n",
       "min                   0.000000              0.000000       0.000000   \n",
       "25%                   0.000000              1.000000       2.000000   \n",
       "50%                   1.000000              2.000000       2.000000   \n",
       "75%                   2.000000              3.000000       2.000000   \n",
       "max                  19.000000             50.000000      55.000000   \n",
       "\n",
       "            children         babies  is_repeated_guest  \\\n",
       "count  119386.000000  119390.000000      119390.000000   \n",
       "mean        0.103890       0.007949           0.031912   \n",
       "std         0.398561       0.097436           0.175767   \n",
       "min         0.000000       0.000000           0.000000   \n",
       "25%         0.000000       0.000000           0.000000   \n",
       "50%         0.000000       0.000000           0.000000   \n",
       "75%         0.000000       0.000000           0.000000   \n",
       "max        10.000000      10.000000           1.000000   \n",
       "\n",
       "       previous_cancellations  previous_bookings_not_canceled  \\\n",
       "count           119390.000000                   119390.000000   \n",
       "mean                 0.087118                        0.137097   \n",
       "std                  0.844336                        1.497437   \n",
       "min                  0.000000                        0.000000   \n",
       "25%                  0.000000                        0.000000   \n",
       "50%                  0.000000                        0.000000   \n",
       "75%                  0.000000                        0.000000   \n",
       "max                 26.000000                       72.000000   \n",
       "\n",
       "       booking_changes          agent      company  days_in_waiting_list  \\\n",
       "count    119390.000000  103050.000000  6797.000000         119390.000000   \n",
       "mean          0.221124      86.693382   189.266735              2.321149   \n",
       "std           0.652306     110.774548   131.655015             17.594721   \n",
       "min           0.000000       1.000000     6.000000              0.000000   \n",
       "25%           0.000000       9.000000    62.000000              0.000000   \n",
       "50%           0.000000      14.000000   179.000000              0.000000   \n",
       "75%           0.000000     229.000000   270.000000              0.000000   \n",
       "max          21.000000     535.000000   543.000000            391.000000   \n",
       "\n",
       "                 adr  required_car_parking_spaces  total_of_special_requests  \n",
       "count  119390.000000                119390.000000              119390.000000  \n",
       "mean      101.831122                     0.062518                   0.571363  \n",
       "std        50.535790                     0.245291                   0.792798  \n",
       "min        -6.380000                     0.000000                   0.000000  \n",
       "25%        69.290000                     0.000000                   0.000000  \n",
       "50%        94.575000                     0.000000                   0.000000  \n",
       "75%       126.000000                     0.000000                   1.000000  \n",
       "max      5400.000000                     8.000000                   5.000000  "
      ]
     },
     "execution_count": 5,
     "metadata": {},
     "output_type": "execute_result"
    }
   ],
   "source": [
    "df.describe()"
   ]
  },
  {
   "cell_type": "code",
   "execution_count": 58,
   "id": "aac0c397",
   "metadata": {},
   "outputs": [
    {
     "data": {
      "image/png": "[encoded data removed]",
      "text/plain": [
       "<Figure size 1080x720 with 20 Axes>"
      ]
     },
     "metadata": {},
     "output_type": "display_data"
    }
   ],
   "source": [
    "# Darstellung der Verteilungen aller Variablen\n",
    "params = {'axes.titlesize':'6',\n",
    "          'xtick.labelsize':'6',\n",
    "          'ytick.labelsize':'6'}\n",
    "\n",
    "matplotlib.rcParams.update(params)\n",
    "df.hist(bins=30, figsize=(15, 10))\n",
    "plt.show()"
   ]
  },
  {
   "cell_type": "code",
   "execution_count": 6,
   "id": "2d01725b",
   "metadata": {
    "scrolled": false
   },
   "outputs": [
    {
     "data": {
      "text/plain": [
       "hotel                                  0\n",
       "is_canceled                            0\n",
       "lead_time                              0\n",
       "arrival_date_year                      0\n",
       "arrival_date_month                     0\n",
       "arrival_date_week_number               0\n",
       "arrival_date_day_of_month              0\n",
       "stays_in_weekend_nights                0\n",
       "stays_in_week_nights                   0\n",
       "adults                                 0\n",
       "children                               4\n",
       "babies                                 0\n",
       "meal                                   0\n",
       "country                              488\n",
       "market_segment                         0\n",
       "distribution_channel                   0\n",
       "is_repeated_guest                      0\n",
       "previous_cancellations                 0\n",
       "previous_bookings_not_canceled         0\n",
       "reserved_room_type                     0\n",
       "assigned_room_type                     0\n",
       "booking_changes                        0\n",
       "deposit_type                           0\n",
       "agent                              16340\n",
       "company                           112593\n",
       "days_in_waiting_list                   0\n",
       "customer_type                          0\n",
       "adr                                    0\n",
       "required_car_parking_spaces            0\n",
       "total_of_special_requests              0\n",
       "reservation_status                     0\n",
       "reservation_status_date                0\n",
       "dtype: int64"
      ]
     },
     "execution_count": 6,
     "metadata": {},
     "output_type": "execute_result"
    }
   ],
   "source": [
    "# Überprüfung des Datensatzes auf fehlende Werte (missing values). Zu diesem Zwecke wird die .isnull() Funktion genutzt\n",
    "# welche alle Null-Werte im Dataframe zählt. Diese werden anschließend Zeilenweise mit .sum() aufsummiert.\n",
    "df.isnull().sum()"
   ]
  },
  {
   "cell_type": "code",
   "execution_count": 7,
   "id": "9ed4cf79",
   "metadata": {},
   "outputs": [
    {
     "name": "stdout",
     "output_type": "stream",
     "text": [
      "Werte Children:\n",
      "[ 0.  1.  2. 10.  3. nan]\n",
      "---------------------------------------------------------------------------------------\n",
      "Werte Country:\n",
      "['PRT' 'GBR' 'USA' 'ESP' 'IRL' 'FRA' nan 'ROU' 'NOR' 'OMN' 'ARG' 'POL'\n",
      " 'DEU' 'BEL' 'CHE' 'CN' 'GRC' 'ITA' 'NLD' 'DNK' 'RUS' 'SWE' 'AUS' 'EST'\n",
      " 'CZE' 'BRA' 'FIN' 'MOZ' 'BWA' 'LUX' 'SVN' 'ALB' 'IND' 'CHN' 'MEX' 'MAR'\n",
      " 'UKR' 'SMR' 'LVA' 'PRI' 'SRB' 'CHL' 'AUT' 'BLR' 'LTU' 'TUR' 'ZAF' 'AGO'\n",
      " 'ISR' 'CYM' 'ZMB' 'CPV' 'ZWE' 'DZA' 'KOR' 'CRI' 'HUN' 'ARE' 'TUN' 'JAM'\n",
      " 'HRV' 'HKG' 'IRN' 'GEO' 'AND' 'GIB' 'URY' 'JEY' 'CAF' 'CYP' 'COL' 'GGY'\n",
      " 'KWT' 'NGA' 'MDV' 'VEN' 'SVK' 'FJI' 'KAZ' 'PAK' 'IDN' 'LBN' 'PHL' 'SEN'\n",
      " 'SYC' 'AZE' 'BHR' 'NZL' 'THA' 'DOM' 'MKD' 'MYS' 'ARM' 'JPN' 'LKA' 'CUB'\n",
      " 'CMR' 'BIH' 'MUS' 'COM' 'SUR' 'UGA' 'BGR' 'CIV' 'JOR' 'SYR' 'SGP' 'BDI'\n",
      " 'SAU' 'VNM' 'PLW' 'QAT' 'EGY' 'PER' 'MLT' 'MWI' 'ECU' 'MDG' 'ISL' 'UZB'\n",
      " 'NPL' 'BHS' 'MAC' 'TGO' 'TWN' 'DJI' 'STP' 'KNA' 'ETH' 'IRQ' 'HND' 'RWA'\n",
      " 'KHM' 'MCO' 'BGD' 'IMN' 'TJK' 'NIC' 'BEN' 'VGB' 'TZA' 'GAB' 'GHA' 'TMP'\n",
      " 'GLP' 'KEN' 'LIE' 'GNB' 'MNE' 'UMI' 'MYT' 'FRO' 'MMR' 'PAN' 'BFA' 'LBY'\n",
      " 'MLI' 'NAM' 'BOL' 'PRY' 'BRB' 'ABW' 'AIA' 'SLV' 'DMA' 'PYF' 'GUY' 'LCA'\n",
      " 'ATA' 'GTM' 'ASM' 'MRT' 'NCL' 'KIR' 'SDN' 'ATF' 'SLE' 'LAO']\n",
      "---------------------------------------------------------------------------------------\n",
      "Werte Agent:\n",
      "[ nan 304. 240. 303.  15. 241.   8. 250. 115.   5. 175. 134. 156. 243.\n",
      " 242.   3. 105.  40. 147. 306. 184.  96.   2. 127.  95. 146.   9. 177.\n",
      "   6. 143. 244. 149. 167. 300. 171. 305.  67. 196. 152. 142. 261. 104.\n",
      "  36.  26.  29. 258. 110.  71. 181.  88. 251. 275.  69. 248. 208. 256.\n",
      " 314. 126. 281. 273. 253. 185. 330. 334. 328. 326. 321. 324. 313.  38.\n",
      " 155.  68. 335. 308. 332.  94. 348. 310. 339. 375.  66. 327. 387. 298.\n",
      "  91. 245. 385. 257. 393. 168. 405. 249. 315.  75. 128. 307.  11. 436.\n",
      "   1. 201. 183. 223. 368. 336. 291. 464. 411. 481.  10. 154. 468. 410.\n",
      " 390. 440. 495. 492. 493. 434.  57. 531. 420. 483. 526. 472. 429.  16.\n",
      " 446.  34.  78. 139. 252. 270.  47. 114. 301. 193. 182. 135. 350. 195.\n",
      " 352. 355. 159. 363. 384. 360. 331. 367.  64. 406. 163. 414. 333. 427.\n",
      " 431. 430. 426. 438. 433. 418. 441. 282. 432.  72. 450. 180. 454. 455.\n",
      "  59. 451. 254. 358. 469. 165. 467. 510. 337. 476. 502. 527. 479. 508.\n",
      " 535. 302. 497. 187.  13.   7.  27.  14.  22.  17.  28.  42.  20.  19.\n",
      "  45.  37.  61.  39.  21.  24.  41.  50.  30.  54.  52.  12.  44.  31.\n",
      "  83.  32.  63.  60.  55.  56.  89.  87. 118.  86.  85. 210. 214. 129.\n",
      " 179. 138. 174. 170. 153.  93. 151. 119.  35. 173.  58.  53. 133.  79.\n",
      " 235. 192. 191. 236. 162. 215. 157. 287. 132. 234.  98.  77. 103. 107.\n",
      " 262. 220. 121. 205. 378.  23. 296. 290. 229.  33. 286. 276. 425. 484.\n",
      " 323. 403. 219. 394. 509. 111. 423.   4.  70.  82.  81.  74.  92.  99.\n",
      "  90. 112. 117. 106. 148. 158. 144. 211. 213. 216. 232. 150. 267. 227.\n",
      " 247. 278. 280. 285. 289. 269. 295. 265. 288. 122. 294. 325. 341. 344.\n",
      " 346. 359. 283. 364. 370. 371.  25. 141. 391. 397. 416. 404. 299. 197.\n",
      "  73. 354. 444. 408. 461. 388. 453. 459. 474. 475. 480. 449.]\n",
      "---------------------------------------------------------------------------------------\n",
      "Werte Company:\n",
      "[ nan 110. 113. 270. 178. 240. 154. 144. 307. 268.  59. 204. 312. 318.\n",
      "  94. 174. 274. 195. 223. 317. 281. 118.  53. 286.  12.  47. 324. 342.\n",
      " 373. 371. 383.  86.  82. 218.  88.  31. 397. 392. 405. 331. 367.  20.\n",
      "  83. 416.  51. 395. 102.  34.  84. 360. 394. 457. 382. 461. 478. 386.\n",
      " 112. 486. 421.   9. 308. 135. 224. 504. 269. 356. 498. 390. 513. 203.\n",
      " 263. 477. 521. 169. 515. 445. 337. 251. 428. 292. 388. 130. 250. 355.\n",
      " 254. 543. 531. 528.  62. 120.  42.  81. 116. 530. 103.  39.  16.  92.\n",
      "  61. 501. 165. 291. 290.  43. 325. 192. 108. 200. 465. 287. 297. 490.\n",
      " 482. 207. 282. 437. 225. 329. 272.  28.  77. 338.  72. 246. 319. 146.\n",
      " 159. 380. 323. 511. 407. 278.  80. 403. 399.  14. 137. 343. 346. 347.\n",
      " 349. 289. 351. 353.  54.  99. 358. 361. 362. 366. 372. 365. 277. 109.\n",
      " 377. 379.  22. 378. 330. 364. 401. 232. 255. 384. 167. 212. 514. 391.\n",
      " 400. 376. 402. 396. 302. 398.   6. 370. 369. 409. 168. 104. 408. 413.\n",
      " 148.  10. 333. 419. 415. 424. 425. 423. 422. 435. 439. 442. 448. 443.\n",
      " 454. 444.  52. 459. 458. 456. 460. 447. 470. 466. 484. 184. 485.  32.\n",
      " 487. 491. 494. 193. 516. 496. 499.  29.  78. 520. 507. 506. 512. 126.\n",
      "  64. 242. 518. 523. 539. 534. 436. 525. 541.  40. 455. 410.  45.  38.\n",
      "  49.  48.  67.  68.  65.  91.  37.   8. 179. 209. 219. 221. 227. 153.\n",
      " 186. 253. 202. 216. 275. 233. 280. 309. 321.  93. 316.  85. 107. 350.\n",
      " 279. 334. 348. 150.  73. 385. 418. 197. 450. 452. 115.  46.  76.  96.\n",
      " 100. 105. 101. 122.  11. 139. 142. 127. 143. 140. 149. 163. 160. 180.\n",
      " 238. 183. 222. 185. 217. 215. 213. 237. 230. 234.  35. 245. 158. 258.\n",
      " 259. 260. 411. 257. 271.  18. 106. 210. 273.  71. 284. 301. 305. 293.\n",
      " 264. 311. 304. 313. 288. 320. 314. 332. 341. 352. 243. 368. 393. 132.\n",
      " 220. 412. 420. 426. 417. 429. 433. 446. 357. 479. 483. 489. 229. 481.\n",
      " 497. 451. 492.]\n"
     ]
    }
   ],
   "source": [
    "columns_isnull = df[['children','country','agent','company']]\n",
    "columns_isnull.head()\n",
    "# Using pandas.unique() to unique values in multiple columns\n",
    "Unique_Children = pd.unique(df['children'])\n",
    "Unique_Country = pd.unique(df['country'])\n",
    "Unique_Agent = pd.unique(df['agent'])\n",
    "Unique_Company = pd.unique(df['company'])\n",
    "print(\"Werte Children:\")\n",
    "print(Unique_Children)\n",
    "print(\"---------------------------------------------------------------------------------------\")\n",
    "print(\"Werte Country:\")\n",
    "print(Unique_Country)\n",
    "print(\"---------------------------------------------------------------------------------------\")\n",
    "print(\"Werte Agent:\")\n",
    "print(Unique_Agent)\n",
    "print(\"---------------------------------------------------------------------------------------\")\n",
    "print(\"Werte Company:\")\n",
    "print(Unique_Company)"
   ]
  },
  {
   "cell_type": "code",
   "execution_count": 8,
   "id": "c71ff384",
   "metadata": {},
   "outputs": [],
   "source": [
    "# Replace missing values:\n",
    "# agent: If no agency is given, booking was most likely made without one.\n",
    "# company: If none given, it was most likely private.\n",
    "replace_isnull =  {\"children:\": 0.0,\"country\": \"Unspecified\", \"agent\": 0, \"company\": 0}\n",
    "df_clean = df.fillna(replace_isnull)\n",
    "\n"
   ]
  },
  {
   "cell_type": "code",
   "execution_count": 9,
   "id": "7a31a856",
   "metadata": {},
   "outputs": [
    {
     "name": "stdout",
     "output_type": "stream",
     "text": [
      "Einträge ohne Erwachsene:  403\n",
      "Einträge nur Kinder:  223\n",
      "Einträge nur Babies:  0\n",
      "--------------------------------\n",
      "Einträge ohne Anzahl Gäste:  180\n"
     ]
    }
   ],
   "source": [
    "guests = df[['adults', 'children', 'babies']]\n",
    "no_adults = guests.loc[(df['adults'] == 0.0)]\n",
    "no_guests = guests.loc[(df['adults'] == 0.0) & (df['children'] == 0.0) & (df['babies'] == 0.0)]\n",
    "only_children = guests.loc[(df['adults'] == 0.0) & (df['children'] != 0.0)]\n",
    "only_babies = guests.loc[(df['adults'] == 0.0) & (df['children'] == 0.0) & (df['babies'] != 0.0)]\n",
    "                           \n",
    "print(\"Einträge ohne Erwachsene: \", len(no_adults))\n",
    "print(\"Einträge nur Kinder: \", len(only_children))\n",
    "print(\"Einträge nur Babies: \", len(only_babies))\n",
    "print(\"--------------------------------\")\n",
    "print(\"Einträge ohne Anzahl Gäste: \", len(no_guests))"
   ]
  },
  {
   "cell_type": "code",
   "execution_count": 10,
   "id": "9199b59d",
   "metadata": {},
   "outputs": [],
   "source": [
    "no_guests_list = list(df_clean.loc[\n",
    "                    df_clean[\"adults\"]\n",
    "                  + df_clean[\"children\"]\n",
    "                  + df_clean[\"babies\"]==0].index)\n",
    "df_clean.drop(df_clean.index[no_guests_list], inplace=True)"
   ]
  },
  {
   "cell_type": "code",
   "execution_count": 11,
   "id": "b82fd270",
   "metadata": {},
   "outputs": [
    {
     "name": "stdout",
     "output_type": "stream",
     "text": [
      "Anzahl gelöschter Zeilen aufgrund fehlender Anzahl Gäste:  180\n"
     ]
    }
   ],
   "source": [
    "print(\"Anzahl gelöschter Zeilen aufgrund fehlender Anzahl Gäste: \",len(df)-len(df_clean))"
   ]
  },
  {
   "cell_type": "code",
   "execution_count": 12,
   "id": "d1e6c064",
   "metadata": {},
   "outputs": [
    {
     "data": {
      "text/plain": [
       "(119210, 32)"
      ]
     },
     "execution_count": 12,
     "metadata": {},
     "output_type": "execute_result"
    }
   ],
   "source": [
    "df_clean.shape"
   ]
  },
  {
   "cell_type": "code",
   "execution_count": 13,
   "id": "b3fb2993",
   "metadata": {},
   "outputs": [],
   "source": [
    "##Add_row_total_guests (just adults and children)\n",
    "df_clean['total_guests'] = df_clean.loc[:,['adults','children']].sum(axis=1)"
   ]
  },
  {
   "cell_type": "markdown",
   "id": "132497f1",
   "metadata": {},
   "source": [
    "- SC: Self Catering\n",
    "\n",
    "- BB: Bed & Breakfast\n",
    "\n",
    "- HB: Half Board (Breakfast and Dinner normally)\n",
    "\n",
    "- FB: Full Board (Beakfast, Lunch and Dinner)\n"
   ]
  },
  {
   "cell_type": "code",
   "execution_count": 14,
   "id": "9587aa83",
   "metadata": {},
   "outputs": [
    {
     "name": "stdout",
     "output_type": "stream",
     "text": [
      "Verpflegung (Ursprünglicher Datensatz):  ['BB' 'FB' 'HB' 'SC' 'Undefined']\n"
     ]
    }
   ],
   "source": [
    "Unique_Meal = pd.unique(df['meal'])\n",
    "print(\"Verpflegung (Ursprünglicher Datensatz): \",Unique_Meal)"
   ]
  },
  {
   "cell_type": "code",
   "execution_count": 15,
   "id": "6255024c",
   "metadata": {},
   "outputs": [],
   "source": [
    "# \"meal\" contains values \"Undefined\", which is equal to SC.\n",
    "df_clean[\"meal\"].replace(\"Undefined\", \"SC\", inplace=True)"
   ]
  },
  {
   "cell_type": "code",
   "execution_count": 16,
   "id": "9549d599",
   "metadata": {},
   "outputs": [
    {
     "name": "stdout",
     "output_type": "stream",
     "text": [
      "Verpflegung (Angepasster Datensatz):  ['BB' 'FB' 'HB' 'SC']\n"
     ]
    }
   ],
   "source": [
    "Unique_Meal_clean = pd.unique(df_clean['meal'])\n",
    "print(\"Verpflegung (Angepasster Datensatz): \",Unique_Meal_clean)"
   ]
  },
  {
   "cell_type": "code",
   "execution_count": 17,
   "id": "48c5d9e2",
   "metadata": {
    "scrolled": true
   },
   "outputs": [
    {
     "data": {
      "text/plain": [
       "BB           92310\n",
       "HB           14463\n",
       "SC           10650\n",
       "Undefined     1169\n",
       "FB             798\n",
       "Name: meal, dtype: int64"
      ]
     },
     "execution_count": 17,
     "metadata": {},
     "output_type": "execute_result"
    }
   ],
   "source": [
    "df['meal'].value_counts()"
   ]
  },
  {
   "cell_type": "code",
   "execution_count": 18,
   "id": "e9949cdc",
   "metadata": {},
   "outputs": [
    {
     "data": {
      "text/plain": [
       "BB    92236\n",
       "HB    14458\n",
       "SC    11718\n",
       "FB      798\n",
       "Name: meal, dtype: int64"
      ]
     },
     "execution_count": 18,
     "metadata": {},
     "output_type": "execute_result"
    }
   ],
   "source": [
    "df_clean['meal'].value_counts()"
   ]
  },
  {
   "cell_type": "code",
   "execution_count": 19,
   "id": "7fdf2d9b",
   "metadata": {},
   "outputs": [],
   "source": [
    "cols_date=['arrival_date_year','arrival_date_month','arrival_date_day_of_month']\n",
    "df_clean['arrival_date'] = df_clean[cols_date].apply(lambda x: '-'.join(x.values.astype(str)), axis=\"columns\")\n",
    "df_clean['arrival_date']=pd.to_datetime(df_clean['arrival_date'])\n",
    "\n"
   ]
  },
  {
   "cell_type": "code",
   "execution_count": 20,
   "id": "515864eb",
   "metadata": {},
   "outputs": [],
   "source": [
    "\n",
    "df_clean['nights_total'] = df_clean.loc[:,['stays_in_week_nights','stays_in_weekend_nights']].sum(axis=1)\n",
    "nights_total = df_clean['nights_total'].apply(np.ceil).apply(lambda x: pd.Timedelta(x, unit='D'))\n",
    "#Datetime objects and timedeltas can be added:\n",
    "\n",
    "df_clean['departure_date'] = df_clean['arrival_date'] + nights_total"
   ]
  },
  {
   "cell_type": "code",
   "execution_count": 21,
   "id": "40868ec9",
   "metadata": {},
   "outputs": [
    {
     "data": {
      "text/plain": [
       "2     27632\n",
       "3     27064\n",
       "1     21005\n",
       "4     17373\n",
       "7      8648\n",
       "5      7771\n",
       "6      3846\n",
       "8      1155\n",
       "10     1135\n",
       "14      913\n",
       "9       840\n",
       "0       645\n",
       "11      393\n",
       "12      220\n",
       "13      141\n",
       "15       72\n",
       "21       71\n",
       "16       40\n",
       "25       37\n",
       "18       35\n",
       "28       34\n",
       "19       22\n",
       "17       20\n",
       "20       14\n",
       "22       13\n",
       "29       13\n",
       "30       13\n",
       "23        8\n",
       "26        6\n",
       "24        6\n",
       "35        5\n",
       "42        4\n",
       "27        4\n",
       "33        3\n",
       "56        2\n",
       "38        1\n",
       "48        1\n",
       "46        1\n",
       "45        1\n",
       "69        1\n",
       "60        1\n",
       "34        1\n",
       "Name: nights_total, dtype: int64"
      ]
     },
     "execution_count": 21,
     "metadata": {},
     "output_type": "execute_result"
    }
   ],
   "source": [
    "df_clean['nights_total'].value_counts()"
   ]
  },
  {
   "cell_type": "code",
   "execution_count": 22,
   "id": "0c46ded0",
   "metadata": {},
   "outputs": [],
   "source": [
    "df_clean = df_clean[df_clean['nights_total'] != 0]"
   ]
  },
  {
   "cell_type": "code",
   "execution_count": 23,
   "id": "4fa616db",
   "metadata": {},
   "outputs": [
    {
     "data": {
      "text/plain": [
       "2     27632\n",
       "3     27064\n",
       "1     21005\n",
       "4     17373\n",
       "7      8648\n",
       "5      7771\n",
       "6      3846\n",
       "8      1155\n",
       "10     1135\n",
       "14      913\n",
       "9       840\n",
       "11      393\n",
       "12      220\n",
       "13      141\n",
       "15       72\n",
       "21       71\n",
       "16       40\n",
       "25       37\n",
       "18       35\n",
       "28       34\n",
       "19       22\n",
       "17       20\n",
       "20       14\n",
       "22       13\n",
       "29       13\n",
       "30       13\n",
       "23        8\n",
       "26        6\n",
       "24        6\n",
       "35        5\n",
       "42        4\n",
       "27        4\n",
       "33        3\n",
       "56        2\n",
       "38        1\n",
       "48        1\n",
       "46        1\n",
       "45        1\n",
       "69        1\n",
       "60        1\n",
       "34        1\n",
       "Name: nights_total, dtype: int64"
      ]
     },
     "execution_count": 23,
     "metadata": {},
     "output_type": "execute_result"
    }
   ],
   "source": [
    "df_clean['nights_total'].value_counts()"
   ]
  },
  {
   "cell_type": "code",
   "execution_count": 24,
   "id": "bf0856d3",
   "metadata": {},
   "outputs": [
    {
     "data": {
      "text/plain": [
       "(118565, 36)"
      ]
     },
     "execution_count": 24,
     "metadata": {},
     "output_type": "execute_result"
    }
   ],
   "source": [
    "df_clean.shape"
   ]
  },
  {
   "cell_type": "code",
   "execution_count": 25,
   "id": "e14ef768",
   "metadata": {
    "scrolled": true
   },
   "outputs": [
    {
     "name": "stdout",
     "output_type": "stream",
     "text": [
      "<class 'pandas.core.frame.DataFrame'>\n",
      "Int64Index: 118565 entries, 2 to 119389\n",
      "Data columns (total 36 columns):\n",
      " #   Column                          Non-Null Count   Dtype         \n",
      "---  ------                          --------------   -----         \n",
      " 0   hotel                           118565 non-null  object        \n",
      " 1   is_canceled                     118565 non-null  int64         \n",
      " 2   lead_time                       118565 non-null  int64         \n",
      " 3   arrival_date_year               118565 non-null  int64         \n",
      " 4   arrival_date_month              118565 non-null  object        \n",
      " 5   arrival_date_week_number        118565 non-null  int64         \n",
      " 6   arrival_date_day_of_month       118565 non-null  int64         \n",
      " 7   stays_in_weekend_nights         118565 non-null  int64         \n",
      " 8   stays_in_week_nights            118565 non-null  int64         \n",
      " 9   adults                          118565 non-null  int64         \n",
      " 10  children                        118561 non-null  float64       \n",
      " 11  babies                          118565 non-null  int64         \n",
      " 12  meal                            118565 non-null  object        \n",
      " 13  country                         118565 non-null  object        \n",
      " 14  market_segment                  118565 non-null  object        \n",
      " 15  distribution_channel            118565 non-null  object        \n",
      " 16  is_repeated_guest               118565 non-null  int64         \n",
      " 17  previous_cancellations          118565 non-null  int64         \n",
      " 18  previous_bookings_not_canceled  118565 non-null  int64         \n",
      " 19  reserved_room_type              118565 non-null  object        \n",
      " 20  assigned_room_type              118565 non-null  object        \n",
      " 21  booking_changes                 118565 non-null  int64         \n",
      " 22  deposit_type                    118565 non-null  object        \n",
      " 23  agent                           118565 non-null  float64       \n",
      " 24  company                         118565 non-null  float64       \n",
      " 25  days_in_waiting_list            118565 non-null  int64         \n",
      " 26  customer_type                   118565 non-null  object        \n",
      " 27  adr                             118565 non-null  float64       \n",
      " 28  required_car_parking_spaces     118565 non-null  int64         \n",
      " 29  total_of_special_requests       118565 non-null  int64         \n",
      " 30  reservation_status              118565 non-null  object        \n",
      " 31  reservation_status_date         118565 non-null  object        \n",
      " 32  total_guests                    118565 non-null  float64       \n",
      " 33  arrival_date                    118565 non-null  datetime64[ns]\n",
      " 34  nights_total                    118565 non-null  int64         \n",
      " 35  departure_date                  118565 non-null  datetime64[ns]\n",
      "dtypes: datetime64[ns](2), float64(5), int64(17), object(12)\n",
      "memory usage: 33.5+ MB\n"
     ]
    }
   ],
   "source": [
    "# Observe the result\n",
    "df_clean.info()\n"
   ]
  },
  {
   "cell_type": "code",
   "execution_count": 26,
   "id": "40cd796c",
   "metadata": {
    "scrolled": true
   },
   "outputs": [
    {
     "data": {
      "image/png": "[encoded data removed]",
      "text/plain": [
       "<Figure size 720x720 with 6 Axes>"
      ]
     },
     "metadata": {},
     "output_type": "display_data"
    }
   ],
   "source": [
    "plt.style.use(['seaborn'])\n",
    "hist = df_clean.hist([\"adr\",\"lead_time\",\"nights_total\",\"days_in_waiting_list\",\"arrival_date_year\",\"arrival_date_day_of_month\"], figsize=(10,10))"
   ]
  },
  {
   "cell_type": "code",
   "execution_count": 40,
   "id": "01bd2728",
   "metadata": {},
   "outputs": [
    {
     "data": {
      "image/png": "[encoded data removed]",
      "text/plain": [
       "<Figure size 1080x576 with 1 Axes>"
      ]
     },
     "metadata": {},
     "output_type": "display_data"
    }
   ],
   "source": [
    "bookings_skewness = df_clean[[\"adr\",\"lead_time\",\"nights_total\",\"days_in_waiting_list\",\"arrival_date_year\",\"arrival_date_day_of_month\"]].skew().sort_values(ascending=False)\n",
    "\n",
    "plt.figure(figsize=(15,8))\n",
    "sns.set_theme(style=\"whitegrid\")\n",
    "sns.barplot(x = list(bookings_skewness.index), y = bookings_skewness.values, \n",
    "            color = sns.color_palette()[0], alpha=.7)\n",
    "plt.ylabel('Schiefewerte')\n",
    "plt.xlabel('Hotel Bookings')\n",
    "plt.title('Schiefewerte der Variablen der Hotel Bookings ')\n",
    "\n",
    "plt.show()"
   ]
  },
  {
   "cell_type": "code",
   "execution_count": 42,
   "id": "3fb1c0e7",
   "metadata": {
    "scrolled": true
   },
   "outputs": [
    {
     "data": {
      "image/png": "[encoded data removed]",
      "text/plain": [
       "<Figure size 1728x576 with 1 Axes>"
      ]
     },
     "metadata": {},
     "output_type": "display_data"
    }
   ],
   "source": [
    "max_days_in_waiting_list= round(df_clean['days_in_waiting_list'].max(), 1)\n",
    "text = f\"Max. Wert: {max_days_in_waiting_list}\"\n",
    "text_kwargs = dict(ha='center', va='center')\n",
    "\n",
    "ax = plt.figure(figsize=(24,8))\n",
    "ax = sns.histplot(df_clean['days_in_waiting_list'], kde = True, stat = 'density', bins = 40)\n",
    "ax.annotate(\"\", xy=(68, 0.02), xytext=(65, 0.06), xycoords='data', arrowprops=dict(arrowstyle=\"->\", color = 'red'))\n",
    "ax.text(x = 65, y = 0.07, s = text, **text_kwargs)\n",
    "\n",
    "plt.title(\"Hotel Bookings - Verteilung Warte Liste Log\")\n",
    "plt.xlim(-1, 70)\n",
    "\n",
    "plt.show()"
   ]
  },
  {
   "cell_type": "code",
   "execution_count": 43,
   "id": "915523bc",
   "metadata": {},
   "outputs": [
    {
     "data": {
      "image/png": "[encoded data removed]",
      "text/plain": [
       "<Figure size 1728x576 with 1 Axes>"
      ]
     },
     "metadata": {},
     "output_type": "display_data"
    }
   ],
   "source": [
    "max_nights_total= round(df_clean['nights_total'].max(), 1)\n",
    "text = f\"Max. Wert: {max_nights_total}\"\n",
    "text_kwargs = dict(ha='center', va='center')\n",
    "\n",
    "ax = plt.figure(figsize=(24,8))\n",
    "ax = sns.histplot(df_clean['days_in_waiting_list'], kde = True, stat = 'density', bins = 40)\n",
    "ax.annotate(\"\", xy=(68, 0.02), xytext=(65, 0.06), xycoords='data', arrowprops=dict(arrowstyle=\"->\", color = 'red'))\n",
    "ax.text(x = 65, y = 0.07, s = text, **text_kwargs)\n",
    "\n",
    "plt.title(\"Hotel Bookings - Verteilung Übernachtungen Liste Log\")\n",
    "plt.xlim(-1, 70)\n",
    "\n",
    "plt.show()"
   ]
  },
  {
   "cell_type": "code",
   "execution_count": 55,
   "id": "686c8875",
   "metadata": {},
   "outputs": [
    {
     "data": {
      "image/png": "[encoded data removed]",
      "text/plain": [
       "<Figure size 1728x576 with 1 Axes>"
      ]
     },
     "metadata": {},
     "output_type": "display_data"
    }
   ],
   "source": [
    "max_lead_total= round(df_clean['lead_time'].max(), 1)\n",
    "text = f\"Max. Wert: {max_lead_total}\"\n",
    "text_kwargs = dict(ha='center', va='center')\n",
    "\n",
    "ax = plt.figure(figsize=(24,8))\n",
    "ax = sns.histplot(df_clean['lead_time'], kde = True, stat = 'density', bins = 40)\n",
    "ax.annotate(\"\", xy=(68, 0.02), xytext=(65, 0.06), xycoords='data', arrowprops=dict(arrowstyle=\"->\", color = 'red'))\n",
    "ax.text(x = 65, y = 0.07, s = text, **text_kwargs)\n",
    "\n",
    "plt.title(\"Hotel Bookings - Verteilung Lead Time\")\n",
    "plt.xlim(-1, 70)\n",
    "\n",
    "plt.show()"
   ]
  },
  {
   "cell_type": "code",
   "execution_count": 33,
   "id": "fc292402",
   "metadata": {
    "scrolled": false
   },
   "outputs": [
    {
     "data": {
      "image/png": "[encoded data removed]",
      "text/plain": [
       "<Figure size 1728x576 with 1 Axes>"
      ]
     },
     "metadata": {},
     "output_type": "display_data"
    }
   ],
   "source": [
    "max_adr= round(df_clean['adr'].max(), 1)\n",
    "text = f\"Max. Wert: {max_adr}\"\n",
    "text_kwargs = dict(ha='center', va='center')\n",
    "\n",
    "ax = plt.figure(figsize=(24,8))\n",
    "ax = sns.histplot(df_clean['adr'], kde = True, stat = 'density', bins = 40)\n",
    "ax.annotate(\"\", xy=(68, 0.02), xytext=(65, 0.06), xycoords='data', arrowprops=dict(arrowstyle=\"->\", color = 'red'))\n",
    "ax.text(x = 65, y = 0.07, s = text, **text_kwargs)\n",
    "\n",
    "plt.title(\"Hotel Bookings - Verteilung adr\")\n",
    "plt.xlim(-1, 70)\n",
    "\n",
    "plt.show()"
   ]
  },
  {
   "cell_type": "code",
   "execution_count": 56,
   "id": "c72651cd",
   "metadata": {
    "scrolled": true
   },
   "outputs": [
    {
     "name": "stderr",
     "output_type": "stream",
     "text": [
      "C:\\Users\\31856\\Anaconda3\\lib\\site-packages\\pandas\\core\\arraylike.py:364: RuntimeWarning: invalid value encountered in log\n",
      "  result = getattr(ufunc, method)(*inputs, **kwargs)\n"
     ]
    },
    {
     "data": {
      "image/png": "[encoded data removed]",
      "text/plain": [
       "<Figure size 1080x576 with 1 Axes>"
      ]
     },
     "metadata": {},
     "output_type": "display_data"
    }
   ],
   "source": [
    "df_clean['days_in_waiting_list'] = np.log(df_clean['days_in_waiting_list'])\n",
    "diwl_log_score = df_clean['days_in_waiting_list'].skew()\n",
    "\n",
    "diwl_log_score_2 = round(diwl_log_score, 2)\n",
    "text = f\"Neuer Skew Wert: {diwl_log_score_2}\"\n",
    "\n",
    "ax = plt.figure(figsize=(15,8))\n",
    "ax = sns.histplot(df_clean['days_in_waiting_list'], kde = True, stat = 'density', bins = 40)\n",
    "ax.text(x = 0, y = 0.21, s = text, color = 'red')\n",
    "\n",
    "plt.title(\"Hotel Bookings - Verteilung DIWL Log\")\n",
    "\n",
    "plt.show()"
   ]
  },
  {
   "cell_type": "code",
   "execution_count": 54,
   "id": "b5a4d600",
   "metadata": {},
   "outputs": [
    {
     "name": "stderr",
     "output_type": "stream",
     "text": [
      "C:\\Users\\31856\\Anaconda3\\lib\\site-packages\\pandas\\core\\arraylike.py:364: RuntimeWarning: invalid value encountered in log\n",
      "  result = getattr(ufunc, method)(*inputs, **kwargs)\n"
     ]
    },
    {
     "data": {
      "image/png": "[encoded data removed]",
      "text/plain": [
       "<Figure size 1080x576 with 1 Axes>"
      ]
     },
     "metadata": {},
     "output_type": "display_data"
    }
   ],
   "source": [
    "df_clean['nights_total'] = np.log(df_clean['nights_total'])\n",
    "nights_log_score = df_clean['nights_total'].skew()\n",
    "\n",
    "nights_log_score_2 = round(nights_log_score, 2)\n",
    "text = f\"Neuer Skew Wert: {nights_log_score_2}\"\n",
    "\n",
    "ax = plt.figure(figsize=(15,8))\n",
    "ax = sns.histplot(df_clean['nights_total'], kde = True, stat = 'density', bins = 40)\n",
    "ax.text(x = 0, y = 0.21, s = text, color = 'red')\n",
    "\n",
    "plt.title(\"Hotel Bookings - Verteilung Nights Log\")\n",
    "\n",
    "plt.show()"
   ]
  },
  {
   "cell_type": "code",
   "execution_count": 53,
   "id": "b9bcca42",
   "metadata": {},
   "outputs": [
    {
     "name": "stderr",
     "output_type": "stream",
     "text": [
      "C:\\Users\\31856\\Anaconda3\\lib\\site-packages\\pandas\\core\\arraylike.py:364: RuntimeWarning: divide by zero encountered in log\n",
      "  result = getattr(ufunc, method)(*inputs, **kwargs)\n",
      "C:\\Users\\31856\\Anaconda3\\lib\\site-packages\\pandas\\core\\arraylike.py:364: RuntimeWarning: invalid value encountered in log\n",
      "  result = getattr(ufunc, method)(*inputs, **kwargs)\n"
     ]
    },
    {
     "data": {
      "image/png": "[encoded data removed]",
      "text/plain": [
       "<Figure size 1080x576 with 1 Axes>"
      ]
     },
     "metadata": {},
     "output_type": "display_data"
    }
   ],
   "source": [
    "df_clean['lead_time'] = np.log(df_clean['lead_time'])\n",
    "lead_log_score = df_clean['lead_time'].skew()\n",
    "\n",
    "lead_log_score_2 = round(diwl_log_score, 2)\n",
    "text = f\"Neuer Skew Wert: {diwl_log_score_2}\"\n",
    "\n",
    "ax = plt.figure(figsize=(15,8))\n",
    "ax = sns.histplot(df_clean['lead_time'], kde = True, stat = 'density', bins = 40)\n",
    "ax.text(x = 0, y = 0.21, s = text, color = 'red')\n",
    "\n",
    "plt.title(\"Hotel Bookings - Verteilung Lead Time Log\")\n",
    "\n",
    "plt.show()"
   ]
  },
  {
   "cell_type": "code",
   "execution_count": 47,
   "id": "9ea446a1",
   "metadata": {
    "scrolled": false
   },
   "outputs": [
    {
     "name": "stderr",
     "output_type": "stream",
     "text": [
      "C:\\Users\\31856\\Anaconda3\\lib\\site-packages\\pandas\\core\\arraylike.py:364: RuntimeWarning: invalid value encountered in log\n",
      "  result = getattr(ufunc, method)(*inputs, **kwargs)\n"
     ]
    },
    {
     "data": {
      "image/png": "[encoded data removed]",
      "text/plain": [
       "<Figure size 1080x576 with 1 Axes>"
      ]
     },
     "metadata": {},
     "output_type": "display_data"
    }
   ],
   "source": [
    "df_clean = df_clean[(df_clean[\"adr\"] != 0)]\n",
    "df_clean['adr'] = np.log(df_clean['adr'])\n",
    "adr_log_score = df_clean['adr'].skew()\n",
    "   \n",
    "adr_log_score_2 = round(adr_log_score, 2)\n",
    "text = f\"Neuer Skew Wert: {adr_log_score_2}\"\n",
    "\n",
    "ax = plt.figure(figsize=(15,8))\n",
    "ax = sns.histplot(df_clean['adr'], kde = True, stat = 'density', bins = 40)\n",
    "ax.text(x = 0, y = 0.21, s = text, color = 'red')\n",
    "\n",
    "plt.title(\"Hotel Bookings - Verteilung adr Log\")\n",
    "\n",
    "plt.show()"
   ]
  },
  {
   "cell_type": "code",
   "execution_count": 57,
   "id": "fd7ffe8b",
   "metadata": {},
   "outputs": [],
   "source": [
    "df_explode=df_clean\n",
    "df_explode['dates_in_house'] = [pd.date_range(s, e, freq='d') for s, e in\n",
    "              zip(pd.to_datetime(df_clean['arrival_date']),\n",
    "                  pd.to_datetime(df_clean['departure_date']))]\n",
    "\n",
    "df_explode = df_clean.explode('dates_in_house').drop(['arrival_date','departure_date'], axis=1)\n",
    "df_explode= df_explode[df_explode['nights_total'] != 0]\n"
   ]
  },
  {
   "cell_type": "code",
   "execution_count": 32,
   "id": "25db4387",
   "metadata": {},
   "outputs": [
    {
     "ename": "KeyError",
     "evalue": "''",
     "output_type": "error",
     "traceback": [
      "\u001b[1;31m---------------------------------------------------------------------------\u001b[0m",
      "\u001b[1;31mKeyError\u001b[0m                                  Traceback (most recent call last)",
      "\u001b[1;32m~\\Anaconda3\\lib\\site-packages\\pandas\\core\\indexes\\base.py\u001b[0m in \u001b[0;36mget_loc\u001b[1;34m(self, key, method, tolerance)\u001b[0m\n\u001b[0;32m   3360\u001b[0m             \u001b[1;32mtry\u001b[0m\u001b[1;33m:\u001b[0m\u001b[1;33m\u001b[0m\u001b[1;33m\u001b[0m\u001b[0m\n\u001b[1;32m-> 3361\u001b[1;33m                 \u001b[1;32mreturn\u001b[0m \u001b[0mself\u001b[0m\u001b[1;33m.\u001b[0m\u001b[0m_engine\u001b[0m\u001b[1;33m.\u001b[0m\u001b[0mget_loc\u001b[0m\u001b[1;33m(\u001b[0m\u001b[0mcasted_key\u001b[0m\u001b[1;33m)\u001b[0m\u001b[1;33m\u001b[0m\u001b[1;33m\u001b[0m\u001b[0m\n\u001b[0m\u001b[0;32m   3362\u001b[0m             \u001b[1;32mexcept\u001b[0m \u001b[0mKeyError\u001b[0m \u001b[1;32mas\u001b[0m \u001b[0merr\u001b[0m\u001b[1;33m:\u001b[0m\u001b[1;33m\u001b[0m\u001b[1;33m\u001b[0m\u001b[0m\n",
      "\u001b[1;32m~\\Anaconda3\\lib\\site-packages\\pandas\\_libs\\index.pyx\u001b[0m in \u001b[0;36mpandas._libs.index.IndexEngine.get_loc\u001b[1;34m()\u001b[0m\n",
      "\u001b[1;32m~\\Anaconda3\\lib\\site-packages\\pandas\\_libs\\index.pyx\u001b[0m in \u001b[0;36mpandas._libs.index.IndexEngine.get_loc\u001b[1;34m()\u001b[0m\n",
      "\u001b[1;32mpandas\\_libs\\hashtable_class_helper.pxi\u001b[0m in \u001b[0;36mpandas._libs.hashtable.PyObjectHashTable.get_item\u001b[1;34m()\u001b[0m\n",
      "\u001b[1;32mpandas\\_libs\\hashtable_class_helper.pxi\u001b[0m in \u001b[0;36mpandas._libs.hashtable.PyObjectHashTable.get_item\u001b[1;34m()\u001b[0m\n",
      "\u001b[1;31mKeyError\u001b[0m: ''",
      "\nThe above exception was the direct cause of the following exception:\n",
      "\u001b[1;31mKeyError\u001b[0m                                  Traceback (most recent call last)",
      "\u001b[1;32m~\\AppData\\Local\\Temp/ipykernel_20724/1513932478.py\u001b[0m in \u001b[0;36m<module>\u001b[1;34m\u001b[0m\n\u001b[1;32m----> 1\u001b[1;33m \u001b[0mdf_explode\u001b[0m\u001b[1;33m[\u001b[0m\u001b[1;34m''\u001b[0m\u001b[1;33m]\u001b[0m\u001b[1;33m\u001b[0m\u001b[1;33m\u001b[0m\u001b[0m\n\u001b[0m",
      "\u001b[1;32m~\\Anaconda3\\lib\\site-packages\\pandas\\core\\frame.py\u001b[0m in \u001b[0;36m__getitem__\u001b[1;34m(self, key)\u001b[0m\n\u001b[0;32m   3456\u001b[0m             \u001b[1;32mif\u001b[0m \u001b[0mself\u001b[0m\u001b[1;33m.\u001b[0m\u001b[0mcolumns\u001b[0m\u001b[1;33m.\u001b[0m\u001b[0mnlevels\u001b[0m \u001b[1;33m>\u001b[0m \u001b[1;36m1\u001b[0m\u001b[1;33m:\u001b[0m\u001b[1;33m\u001b[0m\u001b[1;33m\u001b[0m\u001b[0m\n\u001b[0;32m   3457\u001b[0m                 \u001b[1;32mreturn\u001b[0m \u001b[0mself\u001b[0m\u001b[1;33m.\u001b[0m\u001b[0m_getitem_multilevel\u001b[0m\u001b[1;33m(\u001b[0m\u001b[0mkey\u001b[0m\u001b[1;33m)\u001b[0m\u001b[1;33m\u001b[0m\u001b[1;33m\u001b[0m\u001b[0m\n\u001b[1;32m-> 3458\u001b[1;33m             \u001b[0mindexer\u001b[0m \u001b[1;33m=\u001b[0m \u001b[0mself\u001b[0m\u001b[1;33m.\u001b[0m\u001b[0mcolumns\u001b[0m\u001b[1;33m.\u001b[0m\u001b[0mget_loc\u001b[0m\u001b[1;33m(\u001b[0m\u001b[0mkey\u001b[0m\u001b[1;33m)\u001b[0m\u001b[1;33m\u001b[0m\u001b[1;33m\u001b[0m\u001b[0m\n\u001b[0m\u001b[0;32m   3459\u001b[0m             \u001b[1;32mif\u001b[0m \u001b[0mis_integer\u001b[0m\u001b[1;33m(\u001b[0m\u001b[0mindexer\u001b[0m\u001b[1;33m)\u001b[0m\u001b[1;33m:\u001b[0m\u001b[1;33m\u001b[0m\u001b[1;33m\u001b[0m\u001b[0m\n\u001b[0;32m   3460\u001b[0m                 \u001b[0mindexer\u001b[0m \u001b[1;33m=\u001b[0m \u001b[1;33m[\u001b[0m\u001b[0mindexer\u001b[0m\u001b[1;33m]\u001b[0m\u001b[1;33m\u001b[0m\u001b[1;33m\u001b[0m\u001b[0m\n",
      "\u001b[1;32m~\\Anaconda3\\lib\\site-packages\\pandas\\core\\indexes\\base.py\u001b[0m in \u001b[0;36mget_loc\u001b[1;34m(self, key, method, tolerance)\u001b[0m\n\u001b[0;32m   3361\u001b[0m                 \u001b[1;32mreturn\u001b[0m \u001b[0mself\u001b[0m\u001b[1;33m.\u001b[0m\u001b[0m_engine\u001b[0m\u001b[1;33m.\u001b[0m\u001b[0mget_loc\u001b[0m\u001b[1;33m(\u001b[0m\u001b[0mcasted_key\u001b[0m\u001b[1;33m)\u001b[0m\u001b[1;33m\u001b[0m\u001b[1;33m\u001b[0m\u001b[0m\n\u001b[0;32m   3362\u001b[0m             \u001b[1;32mexcept\u001b[0m \u001b[0mKeyError\u001b[0m \u001b[1;32mas\u001b[0m \u001b[0merr\u001b[0m\u001b[1;33m:\u001b[0m\u001b[1;33m\u001b[0m\u001b[1;33m\u001b[0m\u001b[0m\n\u001b[1;32m-> 3363\u001b[1;33m                 \u001b[1;32mraise\u001b[0m \u001b[0mKeyError\u001b[0m\u001b[1;33m(\u001b[0m\u001b[0mkey\u001b[0m\u001b[1;33m)\u001b[0m \u001b[1;32mfrom\u001b[0m \u001b[0merr\u001b[0m\u001b[1;33m\u001b[0m\u001b[1;33m\u001b[0m\u001b[0m\n\u001b[0m\u001b[0;32m   3364\u001b[0m \u001b[1;33m\u001b[0m\u001b[0m\n\u001b[0;32m   3365\u001b[0m         \u001b[1;32mif\u001b[0m \u001b[0mis_scalar\u001b[0m\u001b[1;33m(\u001b[0m\u001b[0mkey\u001b[0m\u001b[1;33m)\u001b[0m \u001b[1;32mand\u001b[0m \u001b[0misna\u001b[0m\u001b[1;33m(\u001b[0m\u001b[0mkey\u001b[0m\u001b[1;33m)\u001b[0m \u001b[1;32mand\u001b[0m \u001b[1;32mnot\u001b[0m \u001b[0mself\u001b[0m\u001b[1;33m.\u001b[0m\u001b[0mhasnans\u001b[0m\u001b[1;33m:\u001b[0m\u001b[1;33m\u001b[0m\u001b[1;33m\u001b[0m\u001b[0m\n",
      "\u001b[1;31mKeyError\u001b[0m: ''"
     ]
    }
   ],
   "source": [
    "df_explode['']"
   ]
  },
  {
   "cell_type": "code",
   "execution_count": null,
   "id": "2ecc25b1",
   "metadata": {},
   "outputs": [],
   "source": [
    "df_explode= df_explode[df_explode['nights_total'] != 0]\n",
    "df_explode.shape"
   ]
  },
  {
   "cell_type": "code",
   "execution_count": null,
   "id": "475c352b",
   "metadata": {},
   "outputs": [],
   "source": [
    "df_explode= df_explode[df_explode['is_canceled'] != 1]\n",
    "df_explode.shape"
   ]
  },
  {
   "cell_type": "code",
   "execution_count": null,
   "id": "b2095863",
   "metadata": {
    "scrolled": true
   },
   "outputs": [],
   "source": [
    "df_explode.info()"
   ]
  },
  {
   "cell_type": "code",
   "execution_count": null,
   "id": "3f3353a4",
   "metadata": {
    "scrolled": true
   },
   "outputs": [],
   "source": [
    "df_explode.groupby([\"dates_in_house\"]).sum()"
   ]
  },
  {
   "cell_type": "code",
   "execution_count": null,
   "id": "f8eda817",
   "metadata": {
    "scrolled": true
   },
   "outputs": [],
   "source": [
    "rooms_per_day = df_explode.groupby([\"dates_in_house\"]).count()\n",
    "\n",
    "test = df_explode.groupby(df_explode.hotel)['dates_in_house'].count()\n",
    "test_top5 = test[:10]\n",
    "print(test_top5)"
   ]
  },
  {
   "cell_type": "code",
   "execution_count": null,
   "id": "78c4aba6",
   "metadata": {
    "scrolled": true
   },
   "outputs": [],
   "source": [
    "# applying groupby function\n",
    "df_explode.groupby(pd.Grouper(key='dates_in_house')).sum()"
   ]
  },
  {
   "cell_type": "code",
   "execution_count": null,
   "id": "e641c808",
   "metadata": {},
   "outputs": [],
   "source": [
    "\n"
   ]
  },
  {
   "cell_type": "code",
   "execution_count": null,
   "id": "8177d934",
   "metadata": {
    "scrolled": true
   },
   "outputs": [],
   "source": [
    "df_explode.loc[:,['dates_in_house', 'arrival_date_month','stays_in_weekend_nights','stays_in_week_nights','nights_total','total_guests']].head(20)"
   ]
  },
  {
   "cell_type": "code",
   "execution_count": null,
   "id": "cb8ad9de",
   "metadata": {},
   "outputs": [],
   "source": [
    "df_clean.loc[:,['arrival_date_year','arrival_date_month','arrival_date_day_of_month','stays_in_weekend_nights','stays_in_week_nights','total_guests']].head(20)"
   ]
  },
  {
   "cell_type": "code",
   "execution_count": null,
   "id": "1a80e54f",
   "metadata": {},
   "outputs": [],
   "source": [
    "col = sns.choose_colorbrewer_palette('diverging');"
   ]
  },
  {
   "cell_type": "markdown",
   "id": "8ddb5599",
   "metadata": {},
   "source": [
    "<hr style=\"border:1px solid gray\">"
   ]
  },
  {
   "cell_type": "code",
   "execution_count": null,
   "id": "76acc950",
   "metadata": {},
   "outputs": [],
   "source": [
    "rh = df_clean.loc[(df_clean[\"hotel\"] == \"Resort Hotel\")]\n",
    "ch = df_clean.loc[(df_clean[\"hotel\"] == \"City Hotel\")]"
   ]
  },
  {
   "cell_type": "code",
   "execution_count": null,
   "id": "52b3de44",
   "metadata": {},
   "outputs": [],
   "source": [
    "# After cleaning, separate Resort and City hotel\n",
    "# To know the acutal visitor numbers, only bookings that were not canceled are included. \n",
    "df_clean_wo_cancel = df_clean.loc[(df_clean[\"is_canceled\"] == 0)]\n",
    "rh_wo_cancel = df_clean.loc[(df_clean[\"hotel\"] == \"Resort Hotel\") & (df_clean[\"is_canceled\"] == 0)]\n",
    "ch_wo_cancel = df_clean.loc[(df_clean[\"hotel\"] == \"City Hotel\") & (df_clean[\"is_canceled\"] == 0)]"
   ]
  },
  {
   "cell_type": "code",
   "execution_count": null,
   "id": "0a3f1eb0",
   "metadata": {},
   "outputs": [],
   "source": [
    "print(\"Shape df_clean: \", df_clean.shape)\n",
    "print(\"Shape df_clean_wo_cancel: \", df_clean_wo_cancel.shape)\n",
    "print(\"Shape rh: \", rh_wo_cancel.shape)\n",
    "print(\"Shape ch: \", ch_wo_cancel.shape)\n"
   ]
  },
  {
   "cell_type": "code",
   "execution_count": null,
   "id": "0ef36b55",
   "metadata": {},
   "outputs": [],
   "source": [
    "# get number of acutal guests by country\n",
    "country_data = pd.DataFrame(df_clean.loc[df_clean[\"is_canceled\"] == 0][\"country\"].value_counts())\n",
    "#country_data.index.name = \"country\"\n",
    "country_data.rename(columns={\"country\": \"Number of Guests\"}, inplace=True)\n",
    "total_guests = country_data[\"Number of Guests\"].sum()\n",
    "country_data[\"Guests in %\"] = round(country_data[\"Number of Guests\"] / total_guests * 100, 2)\n",
    "country_data[\"country\"] = country_data.index\n",
    "#country_data.loc[country_data[\"Guests in %\"] < 2, \"country\"] = \"Other\"\n",
    "\n",
    "# pie plot\n",
    "fig = px.pie(country_data,\n",
    "             values=\"Number of Guests\",\n",
    "             names=\"country\",\n",
    "             title=\"Home country of guests\",\n",
    "             template=\"seaborn\")\n",
    "fig.update_traces(textposition=\"inside\", textinfo=\"value+percent+label\")\n",
    "fig.show()"
   ]
  },
  {
   "cell_type": "code",
   "execution_count": null,
   "id": "e8e808b2",
   "metadata": {},
   "outputs": [],
   "source": []
  },
  {
   "cell_type": "code",
   "execution_count": null,
   "id": "e59340a5",
   "metadata": {},
   "outputs": [],
   "source": [
    "#Data Frame month \n",
    "res_book_per_month = df_clean.loc[(df_clean[\"hotel\"] == \"Resort Hotel\")].groupby(\"arrival_date_month\")[\"hotel\"].count()\n",
    "res_cancel_per_month = df_clean.loc[(df_clean[\"hotel\"] == \"Resort Hotel\")].groupby(\"arrival_date_month\")[\"is_canceled\"].sum()\n",
    "\n",
    "cty_book_per_month = df_clean.loc[(df_clean[\"hotel\"] == \"City Hotel\")].groupby(\"arrival_date_month\")[\"hotel\"].count()\n",
    "cty_cancel_per_month = df_clean.loc[(df_clean[\"hotel\"] == \"City Hotel\")].groupby(\"arrival_date_month\")[\"is_canceled\"].sum()\n",
    "\n",
    "res_cancel_data_month = pd.DataFrame({\"Hotel\": \"Resort Hotel\",\n",
    "                                \"Month\": list(res_book_per_month.index),\n",
    "                                \"Bookings\": list(res_book_per_month.values),\n",
    "                                \"Cancelations\": list(res_cancel_per_month.values)})\n",
    "cty_cancel_data_month = pd.DataFrame({\"Hotel\": \"City Hotel\",\n",
    "                                \"Month\": list(cty_book_per_month.index),\n",
    "                                \"Bookings\": list(cty_book_per_month.values),\n",
    "                                \"Cancelations\": list(cty_cancel_per_month.values)})\n",
    "\n",
    "full_cancel_data_month = pd.concat([res_cancel_data_month, cty_cancel_data_month], ignore_index=True)\n",
    "full_cancel_data_month[\"cancel_percent\"] = round(full_cancel_data_month[\"Cancelations\"] / full_cancel_data_month[\"Bookings\"] * 100,ndigits=1)\n",
    "\n",
    "\n",
    "# order by month:\n",
    "ordered_months = [\"January\", \"February\", \"March\", \"April\", \"May\", \"June\", \n",
    "          \"July\", \"August\", \"September\", \"October\", \"November\", \"December\"]\n",
    "full_cancel_data_month[\"Month\"] = pd.Categorical(full_cancel_data_month[\"Month\"], categories=ordered_months, ordered=True)\n",
    "\n",
    "\n",
    "# Dataframe Year\n",
    "res_book_per_year = df_clean.loc[(df_clean[\"hotel\"] == \"Resort Hotel\")].groupby(\"arrival_date_year\")[\"hotel\"].count()\n",
    "res_cancel_per_year = df_clean.loc[(df_clean[\"hotel\"] == \"Resort Hotel\")].groupby(\"arrival_date_year\")[\"is_canceled\"].sum()\n",
    "\n",
    "cty_book_per_year = df_clean.loc[(df_clean[\"hotel\"] == \"City Hotel\")].groupby(\"arrival_date_year\")[\"hotel\"].count()\n",
    "cty_cancel_per_year = df_clean.loc[(df_clean[\"hotel\"] == \"City Hotel\")].groupby(\"arrival_date_year\")[\"is_canceled\"].sum()\n",
    "\n",
    "res_cancel_data_year = pd.DataFrame({\"Hotel\": \"Resort Hotel\",\n",
    "                                \"Year\": list(res_book_per_year.index),\n",
    "                                \"Bookings\": list(res_book_per_year.values),\n",
    "                                \"Cancelations\": list(res_cancel_per_year.values)})\n",
    "cty_cancel_data_year = pd.DataFrame({\"Hotel\": \"City Hotel\",\n",
    "                                \"Year\": list(cty_book_per_year.index),\n",
    "                                \"Bookings\": list(cty_book_per_year.values),\n",
    "                                \"Cancelations\": list(cty_cancel_per_year.values)})\n",
    "\n",
    "full_cancel_data_year = pd.concat([res_cancel_data_year, cty_cancel_data_year], ignore_index=True)\n",
    "full_cancel_data_year[\"cancel_percent\"] = round(full_cancel_data_year[\"Cancelations\"] / full_cancel_data_year[\"Bookings\"] * 100,ndigits=0)\n",
    "\n",
    "#data_farme_year_month\n",
    "def month_converter(month):\n",
    "    months = ['January', 'February', 'March', 'April', 'May', 'June','July', 'August', 'September', 'October', 'November', 'December']\n",
    "    return months.index(month) + 1\n",
    "df_clean['arrival_month'] = df_clean['arrival_date_month'].apply(month_converter)\n",
    "df_clean['arrival_year_month'] = df_clean['arrival_date_year'].astype(str) + \" _ \" + df_clean['arrival_month'].astype(str)\n",
    "\n",
    "# Dataframe Year\n",
    "res_book_per_year_month = df_clean.loc[(df_clean[\"hotel\"] == \"Resort Hotel\")].groupby(\"arrival_year_month\")[\"hotel\"].count()\n",
    "res_cancel_per_year_month = df_clean.loc[(df_clean[\"hotel\"] == \"Resort Hotel\")].groupby(\"arrival_year_month\")[\"is_canceled\"].sum()\n",
    "\n",
    "cty_book_per_year_month = df_clean.loc[(df_clean[\"hotel\"] == \"City Hotel\")].groupby(\"arrival_year_month\")[\"hotel\"].count()\n",
    "cty_cancel_per_year_month = df_clean.loc[(df_clean[\"hotel\"] == \"City Hotel\")].groupby(\"arrival_year_month\")[\"is_canceled\"].sum()\n",
    "\n",
    "res_cancel_data_year_month = pd.DataFrame({\"Hotel\": \"Resort Hotel\",\n",
    "                                \"Year_Month\": list(res_book_per_year_month.index),\n",
    "                                \"Bookings\": list(res_book_per_year_month.values),\n",
    "                                \"Cancelations\": list(res_cancel_per_year_month.values)})\n",
    "cty_cancel_data_year_month = pd.DataFrame({\"Hotel\": \"City Hotel\",\n",
    "                                \"Year_Month\": list(cty_book_per_year_month.index),\n",
    "                                \"Bookings\": list(cty_book_per_year_month.values),\n",
    "                                \"Cancelations\": list(cty_cancel_per_year_month.values)})\n",
    "\n",
    "full_cancel_data_year_month = pd.concat([res_cancel_data_year_month, cty_cancel_data_year_month], ignore_index=True)\n",
    "full_cancel_data_year_month[\"cancel_percent\"] = round(full_cancel_data_year_month[\"Cancelations\"] / full_cancel_data_year_month[\"Bookings\"] * 100,ndigits=1)\n"
   ]
  },
  {
   "cell_type": "code",
   "execution_count": null,
   "id": "e3b4dbb6",
   "metadata": {},
   "outputs": [],
   "source": [
    "fig = plt.figure(figsize=(20, 10))\n",
    "\n",
    "plt.subplots_adjust(wspace= 0.5, hspace= 0.5)\n",
    "\n",
    "sub1 = fig.add_subplot(2,2,1) # two rows, two columns, fist cell\n",
    "ax_1 = sns.barplot(x = \"Year\", y = \"cancel_percent\" , hue=\"Hotel\",\n",
    "            hue_order = [\"City Hotel\", \"Resort Hotel\"], data=full_cancel_data_year, color='blue')\n",
    "plt.title(\"Cancelations per month\", fontsize=16)\n",
    "plt.xlabel(\"Year\", fontsize=16)\n",
    "plt.xticks(rotation=45)\n",
    "plt.ylabel(\"Cancelations [%]\", fontsize=16)\n",
    "plt.legend(loc=\"upper right\")\n",
    "#plt.show()\n",
    "for p in ax_1.patches:\n",
    "    ax_1.annotate((p.get_height()),(p.get_x()+0.15, p.get_height()+0.2))\n",
    "\n",
    "# Create second axes, the top-left plot with orange plot\n",
    "sub2 = fig.add_subplot(2,2,2) # two rows, two columns, second cell\n",
    "ax_2 = sns.barplot(x = \"Month\", y = \"cancel_percent\" , hue=\"Hotel\",\n",
    "            hue_order = [\"City Hotel\", \"Resort Hotel\"], data=full_cancel_data_month, color='blue')\n",
    "plt.title(\"Cancelations per month\", fontsize=16)\n",
    "plt.xlabel(\"Month\", fontsize=16)\n",
    "plt.xticks(rotation=45)\n",
    "plt.ylabel(\"Cancelations [%]\", fontsize=16)\n",
    "plt.legend(loc=\"upper right\")\n",
    "#plt.show()\n",
    "for p in ax_2.patches:\n",
    "    ax_2.annotate((p.get_height()),(p.get_x()-0.05, p.get_height()+0.2))\n",
    "\n",
    "# Create third axes, a combination of third and fourth cell\n",
    "sub3 = fig.add_subplot(2,2,(3,4)) # two rows, two colums, combined third and fourth cell\n",
    "ax_3 = sns.barplot(x = \"Year_Month\", y = \"cancel_percent\" , hue=\"Hotel\",\n",
    "            hue_order = [\"City Hotel\", \"Resort Hotel\"], data=full_cancel_data_year_month, color='blue')\n",
    "plt.title(\"Cancelations per Year-Month\", fontsize=16)\n",
    "plt.xlabel(\"Year-Month\", fontsize=16)\n",
    "plt.xticks(rotation=45)\n",
    "plt.ylabel(\"Cancelations [%]\", fontsize=16)\n",
    "plt.legend(loc=\"upper right\")\n",
    "#plt.show()\n",
    "for p in ax_3.patches:\n",
    "    ax_3.annotate((p.get_height()),(p.get_x()-0.05, p.get_height()+0.2))"
   ]
  },
  {
   "cell_type": "markdown",
   "id": "9ad85824",
   "metadata": {},
   "source": [
    "<hr style=\"border:1px solid gray\">"
   ]
  },
  {
   "cell_type": "code",
   "execution_count": null,
   "id": "bb202307",
   "metadata": {
    "scrolled": true
   },
   "outputs": [],
   "source": [
    "##col = sns.diverging_palette(220, 20, as_cmap=True)\n",
    "plt.figure(figsize = (24, 12))\n",
    "\n",
    "corr = df_clean.corr()\n",
    "\n",
    "mask = np.zeros_like(corr, dtype=bool)\n",
    "\n",
    "mask[np.triu_indices_from(mask)] = True\n",
    "sns.heatmap(corr, \n",
    "            annot = True, \n",
    "            linewidths = 2,\n",
    "            mask = mask,\n",
    "            cmap=col)\n",
    "plt.show()"
   ]
  },
  {
   "cell_type": "code",
   "execution_count": null,
   "id": "da5d9dc0",
   "metadata": {
    "scrolled": true
   },
   "outputs": [],
   "source": [
    "cancel_corr_rh = rh.corr()[\"is_canceled\"]\n",
    "cancel_corr_rh_list = cancel_corr_rh.abs().sort_values(ascending=False)[1:]\n",
    "cancel_corr_rh_top5 = cancel_corr_rh_list[:5]\n",
    "print(cancel_corr_rh_top5)"
   ]
  },
  {
   "cell_type": "code",
   "execution_count": null,
   "id": "ed17aee2",
   "metadata": {},
   "outputs": [],
   "source": [
    "cancel_corr_ch = ch.corr()[\"is_canceled\"]\n",
    "cancel_corr_ch_list = cancel_corr_ch.abs().sort_values(ascending=False)[1:]\n",
    "cancel_corr_ch_top5 = cancel_corr_ch_list[:5]\n",
    "print(cancel_corr_ch_top5)"
   ]
  },
  {
   "cell_type": "code",
   "execution_count": null,
   "id": "242b8843",
   "metadata": {},
   "outputs": [],
   "source": [
    "# group data for lead_time:\n",
    "lead_cancel_data = df_clean.groupby(\"lead_time\")[\"is_canceled\"].describe()\n",
    "# use only lead_times wih more than 10 bookings for graph:\n",
    "lead_cancel_data_10 = lead_cancel_data.loc[lead_cancel_data[\"count\"] >= 10]\n",
    "\n",
    "#show figure:\n",
    "plt.figure(figsize=(12, 8))\n",
    "sns.regplot(x=lead_cancel_data_10.index, y=lead_cancel_data_10[\"mean\"].values * 100)\n",
    "plt.title(\"Effect of lead time on cancelation\", fontsize=16)\n",
    "plt.xlabel(\"Lead time\", fontsize=16)\n",
    "plt.ylabel(\"Cancelations [%]\", fontsize=16)\n",
    "# plt.xlim(0,365)\n",
    "plt.show()"
   ]
  },
  {
   "cell_type": "code",
   "execution_count": null,
   "id": "41139a76",
   "metadata": {
    "scrolled": false
   },
   "outputs": [],
   "source": [
    "\n",
    "\n",
    "country_data = pd.DataFrame(df_clean.loc[df_clean[\"is_canceled\"] == 0][\"country\"].value_counts())\n",
    "#country_data.index.name = \"country\"\n",
    "country_data.rename(columns={\"country\": \"Number of Guests\"}, inplace=True)\n",
    "total_guests = country_data[\"Number of Guests\"].sum()\n",
    "country_data[\"Guests in %\"] = round(country_data[\"Number of Guests\"] / total_guests * 100, 2)\n",
    "country_data[\"country\"] = country_data.index\n",
    "guest_map = px.choropleth(country_data,\n",
    "                    locations=country_data.index,\n",
    "                    color=country_data[\"Number of Guests\"], \n",
    "                    hover_name=country_data.index, \n",
    "                    color_continuous_scale=px.colors.sequential.Blues,\n",
    "                    title=\"Home country of guests\")\n",
    "guest_map.show()"
   ]
  },
  {
   "cell_type": "code",
   "execution_count": null,
   "id": "549c54b7",
   "metadata": {},
   "outputs": [],
   "source": [
    "df_clean['arrival_month'] = df_clean['arrival_date_month'].apply(month_converter)\n",
    "df_clean['arrival_year_month'] = df_clean['arrival_date_year'].astype(str) + \" _ \" + df_clean['arrival_month'].astype(str)\n",
    "\n",
    "\n",
    "df_explode['arrival_month'] = df_explode['arrival_date_month'].apply(month_converter)\n",
    "df_explode['arrival_year_month'] = df_explode['arrival_date_year'].astype(str) + \" _ \" + df_explode['arrival_month'].astype(str)"
   ]
  },
  {
   "cell_type": "code",
   "execution_count": null,
   "id": "df3fbccb",
   "metadata": {},
   "outputs": [],
   "source": [
    "fig = plt.figure(figsize=(24, 8))\n",
    "\n",
    "plt.subplots_adjust(wspace= 0.5, hspace= 0.5)\n",
    "\n",
    "sub4 = fig.add_subplot(2,1,1) # two rows, one columns, fist cell\n",
    "ax_4 = sns.countplot(x='arrival_year_month',hue='hotel', data = df_clean, palette=col)\n",
    "plt.title('Arrivals per Year-Month')\n",
    "plt.xlabel('Year-Month')\n",
    "plt.ylabel('Total Count')\n",
    "for p in ax_4.patches:\n",
    "    ax_4.annotate((p.get_height()),(p.get_x()-0.05 , p.get_height()+1)) \n",
    "\n",
    "sub5 = fig.add_subplot(2,1,2)\n",
    "ax_5 = sns.countplot(x='arrival_year_month',hue='hotel', data = df_explode, palette=col)\n",
    "plt.title('Total Arrivals per Year-Month')\n",
    "plt.xlabel('Year-Month')\n",
    "plt.ylabel('Total Count')\n",
    "for p in ax_5.patches:\n",
    "    ax_5.annotate((p.get_height()),(p.get_x()-0.05 , p.get_height()+1)) "
   ]
  },
  {
   "cell_type": "code",
   "execution_count": null,
   "id": "420b9b90",
   "metadata": {},
   "outputs": [],
   "source": [
    "max_guests = df_explode.groupby('dates_in_house').sum() \n",
    "print(max_guests)"
   ]
  },
  {
   "cell_type": "code",
   "execution_count": null,
   "id": "2e8dfdb4",
   "metadata": {},
   "outputs": [],
   "source": [
    "base_color = sns.color_palette()\n",
    "df_plot = df_clean.groupby(['hotel', 'arrival_year_month']).size().reset_index().pivot(columns='hotel', index='arrival_year_month', values=0)\n",
    "counter = df_clean.groupby('arrival_year_month')['hotel'].value_counts().unstack()\n",
    "percentage_dist = 100 * counter.divide(counter.sum(axis = 1), axis = 0)\n",
    "\n",
    "ax = df_plot.plot(kind='bar', stacked=True, color=base_color)\n",
    "for p in ax.patches:\n",
    "    width, height = p.get_width(), p.get_height()\n",
    "    x, y = p.get_xy() \n",
    "    ax.text(x+width/2, \n",
    "            y+height/2, \n",
    "            '{:.0f} '.format(height), \n",
    "            horizontalalignment='center', \n",
    "            verticalalignment='center')"
   ]
  },
  {
   "cell_type": "code",
   "execution_count": null,
   "id": "25084cc2",
   "metadata": {},
   "outputs": [],
   "source": [
    "\n",
    "counter = df_clean.groupby('arrival_year_month')['hotel'].value_counts().unstack()\n",
    "#calculate the % for each age group \n",
    "percentage_dist = 100 * counter.divide(counter.sum(axis = 1), axis = 0)\n",
    "\n",
    "\n",
    "ax = percentage_dist.plot(kind='bar', stacked=True, color=base_color)\n",
    "for p in ax.patches:\n",
    "    width, height = p.get_width(), p.get_height()\n",
    "    x, y = p.get_xy() \n",
    "    ax.text(x+width/2, \n",
    "            y+height/2, \n",
    "            '{:.0f} %'.format(height), \n",
    "            horizontalalignment='center', \n",
    "            verticalalignment='center')"
   ]
  },
  {
   "cell_type": "code",
   "execution_count": null,
   "id": "6ea3a52b",
   "metadata": {},
   "outputs": [],
   "source": [
    "# normalize price per night (adr):\n",
    "df_clean[\"adr_pp\"] = df_clean[\"adr\"] / (df_clean[\"adults\"] + df_clean[\"children\"])\n",
    "full_data_guests = df_clean.loc[df_clean[\"is_canceled\"] == 0] # only actual gusts\n",
    "room_prices = full_data_guests[[\"hotel\", \"reserved_room_type\", \"adr_pp\"]].sort_values(\"reserved_room_type\")\n",
    "\n",
    "# boxplot:\n",
    "plt.figure(figsize=(12, 8))\n",
    "sns.boxplot(x=\"reserved_room_type\",\n",
    "            y=\"adr_pp\",\n",
    "            hue=\"hotel\",\n",
    "            data=room_prices, \n",
    "            hue_order=[\"City Hotel\", \"Resort Hotel\"],\n",
    "            fliersize=0)\n",
    "plt.title(\"Price of room types per night and person\", fontsize=16)\n",
    "plt.xlabel(\"Room type\", fontsize=16)\n",
    "plt.ylabel(\"Price [EUR]\", fontsize=16)\n",
    "plt.legend(loc=\"upper right\")\n",
    "plt.ylim(0, 160)\n",
    "plt.show()"
   ]
  },
  {
   "cell_type": "markdown",
   "id": "d5f16364",
   "metadata": {},
   "source": [
    "This figure shows the average price per room, depending on its type and the standard deviation.\n",
    "Note that due to data anonymization rooms with the same type letter may not necessarily be the same across hotels."
   ]
  },
  {
   "cell_type": "code",
   "execution_count": null,
   "id": "9a24d48c",
   "metadata": {},
   "outputs": [],
   "source": [
    "# grab data:\n",
    "room_prices_mothly = full_data_guests[[\"hotel\", \"arrival_date_month\", \"adr_pp\"]].sort_values(\"arrival_date_month\")\n",
    "\n",
    "# order by month:\n",
    "ordered_months = [\"January\", \"February\", \"March\", \"April\", \"May\", \"June\", \n",
    "          \"July\", \"August\", \"September\", \"October\", \"November\", \"December\"]\n",
    "room_prices_mothly[\"arrival_date_month\"] = pd.Categorical(room_prices_mothly[\"arrival_date_month\"], categories=ordered_months, ordered=True)\n",
    "\n",
    "# barplot with standard deviation:\n",
    "plt.figure(figsize=(12, 8))\n",
    "sns.lineplot(x = \"arrival_date_month\", y=\"adr_pp\", hue=\"hotel\", data=room_prices_mothly, \n",
    "            hue_order = [\"City Hotel\", \"Resort Hotel\"], ci=\"sd\", size=\"hotel\", sizes=(2.5, 2.5))\n",
    "plt.title(\"Room price per night and person over the year\", fontsize=16)\n",
    "plt.xlabel(\"Month\", fontsize=16)\n",
    "plt.xticks(rotation=45)\n",
    "plt.ylabel(\"Price [EUR]\", fontsize=16)\n",
    "plt.show()"
   ]
  },
  {
   "cell_type": "markdown",
   "id": "1da2101a",
   "metadata": {},
   "source": [
    "This clearly shows that the prices in the Resort hotel are much higher during the summer (no surprise here).\n",
    "The price of the city hotel varies less and is most expensive during spring and autumn."
   ]
  },
  {
   "cell_type": "markdown",
   "id": "c4f8b14f",
   "metadata": {},
   "source": [
    "<hr style=\"border:1px solid gray\">"
   ]
  },
  {
   "cell_type": "code",
   "execution_count": null,
   "id": "395b1fbb",
   "metadata": {},
   "outputs": [],
   "source": [
    "# create a new data set \n",
    "hotel_data = df_clean.copy()\n",
    "# the replace dictionary uses a colon to indicate what is to be replaced and commas to separate the items\n",
    "hotel_data['cancelled'] = hotel_data['is_canceled'].replace({0: 'No', 1: 'Yes'})\n",
    "\n",
    "\n",
    "# display the slice\n",
    "hotel_data"
   ]
  },
  {
   "cell_type": "code",
   "execution_count": null,
   "id": "1fa559ca",
   "metadata": {},
   "outputs": [],
   "source": [
    "# create a list for the target and define y\n",
    "target = 'is_canceled'\n",
    "y = hotel_data[target]\n",
    "\n",
    "# create an array of all the input features and define the X\n",
    "all_features=['lead_time', 'previous_cancellations', 'previous_bookings_not_canceled', 'days_in_waiting_list', 'booking_changes', 'total_of_special_requests']\n",
    "X_all=hotel_data[all_features]\n",
    "\n",
    "# perform the training-testing split\n",
    "X_all_train, X_all_test, y_all_train, y_all_test = train_test_split(X_all, y, train_size=0.8, random_state=1)\n",
    "\n",
    "# display the length of the lists to check\n",
    "print(\"Size of X_all_train: \",X_all_train.shape)\n",
    "print(\"Length of y_all_train: \",len(y_all_train))\n",
    "print(\"Size of X_all_test: \",X_all_test.shape)\n",
    "print(\"Length of y_all_test: \",len(y_all_test))"
   ]
  },
  {
   "cell_type": "code",
   "execution_count": null,
   "id": "e7e59d51",
   "metadata": {},
   "outputs": [],
   "source": [
    "# Define the input features\n",
    "input_features=['lead_time']\n",
    "\n",
    "# create the model\n",
    "tree_model = DecisionTreeClassifier(max_depth=2)\n",
    "tree_model.fit(X_all_train[input_features], y_all_train)\n",
    "\n",
    "# display the model\n",
    "fig, ax = plt.subplots(figsize=(18,8))\n",
    "plot_tree(tree_model, filled=True, impurity=False, feature_names=input_features, proportion=True, class_names=[\"No\", \"Yes\"], ax=ax, fontsize=14);\n",
    "plt.show()\n",
    "\n",
    "# create a list of the predictions\n",
    "y_pred = tree_model.predict(X_all_test[input_features])\n",
    "\n",
    "# display the precision and recall\n",
    "print(\"Precision: \",100*precision_score(y_all_test, y_pred))\n",
    "print(\"Recall: \",100*recall_score(y_all_test, y_pred))"
   ]
  },
  {
   "cell_type": "code",
   "execution_count": null,
   "id": "fc4159ed",
   "metadata": {},
   "outputs": [],
   "source": [
    "# Define the input features\n",
    "input_features=['lead_time','total_of_special_requests']\n",
    "\n",
    "# create the model\n",
    "tree_model = DecisionTreeClassifier(max_depth=2)\n",
    "tree_model.fit(X_all_train[input_features], y_all_train)\n",
    "\n",
    "# display the model\n",
    "fig, ax = plt.subplots(figsize=(18,8))\n",
    "plot_tree(tree_model, filled=True, impurity=False, feature_names=input_features, proportion=True, class_names=[\"No\", \"Yes\"], ax=ax, fontsize=14);\n",
    "plt.show()\n",
    "\n",
    "# create a list of the predictions\n",
    "y_pred = tree_model.predict(X_all_test[input_features])\n",
    "\n",
    "# display the precision and recall\n",
    "print(\"Precision: \",100*precision_score(y_all_test, y_pred))\n",
    "print(\"Recall: \",100*recall_score(y_all_test, y_pred))"
   ]
  },
  {
   "cell_type": "code",
   "execution_count": null,
   "id": "aaa57b27",
   "metadata": {},
   "outputs": [],
   "source": [
    "# Two-way table \n",
    "pd.crosstab(hotel_data['cancelled'], hotel_data['hotel'])"
   ]
  },
  {
   "cell_type": "code",
   "execution_count": null,
   "id": "ea1f04fb",
   "metadata": {},
   "outputs": [],
   "source": [
    "sns.catplot(data=hotel_data, kind='violin', x='lead_time', y='hotel', hue='cancelled', split=True, aspect=2);"
   ]
  },
  {
   "cell_type": "markdown",
   "id": "672cb9e5",
   "metadata": {},
   "source": [
    "<hr style=\"border:1px solid gray\">"
   ]
  },
  {
   "cell_type": "code",
   "execution_count": 114,
   "id": "debea280",
   "metadata": {},
   "outputs": [],
   "source": [
    "bookings = df_clean[df_clean['is_canceled']==0].pivot_table(index='arrival_date_month',columns='arrival_date_year', values='hotel', aggfunc=len, fill_value=0)"
   ]
  },
  {
   "cell_type": "code",
   "execution_count": 115,
   "id": "3d60919b",
   "metadata": {
    "scrolled": false
   },
   "outputs": [
    {
     "data": {
      "image/png": "[encoded data removed]",
      "text/plain": [
       "<Figure size 360x216 with 2 Axes>"
      ]
     },
     "metadata": {},
     "output_type": "display_data"
    }
   ],
   "source": [
    "bookings.index = pd.CategoricalIndex(bookings.index, categories=['January', 'February', 'March', 'April','May','June','July', 'August','September', 'October', 'November', 'December'], ordered=True)\n",
    "bookings.index = pd.CategoricalIndex(bookings.index, categories=['January', 'February', 'March', 'April','May','June','July', 'August','September', 'October', 'November', 'December'], ordered=True)\n",
    "bookings = bookings.sort_index()\n",
    "mask = np.array([[1, 0, 0], [1, 0, 0], [1, 0, 0], [1, 0, 0], [1, 0, 0], [1, 0, 0], [0, 0, 0], [0, 0, 0], [0, 0, 1], [0, 0, 1], [0, 0, 1], [0, 0, 1]])\n",
    "f, ax = plt.subplots(figsize=(5, 3))\n",
    "sns.heatmap(bookings, center=2000, annot=True, mask=mask, fmt=\"d\", ax=ax, cmap=\"YlGnBu\")\n",
    "sns.set_context('paper')\n",
    "plt.show()"
   ]
  },
  {
   "cell_type": "code",
   "execution_count": 74,
   "id": "b4211a7b",
   "metadata": {},
   "outputs": [],
   "source": [
    "df_clean['room_assignment'] = df_clean['reserved_room_type']==df_clean['assigned_room_type']\n",
    "df_clean['bill']=df_clean.nights_total*df_clean.adr"
   ]
  },
  {
   "cell_type": "code",
   "execution_count": 116,
   "id": "694e9551",
   "metadata": {},
   "outputs": [],
   "source": [
    "from sklearn.model_selection import train_test_split, GridSearchCV\n",
    "from sklearn.tree import DecisionTreeClassifier\n",
    "from sklearn.metrics import accuracy_score\n",
    "from sklearn.linear_model import LogisticRegression\n",
    "from sklearn.neighbors import KNeighborsClassifier as KNN\n",
    "from sklearn.ensemble import VotingClassifier, BaggingClassifier, RandomForestClassifier, AdaBoostClassifier\n",
    "from sklearn.metrics import roc_auc_score"
   ]
  },
  {
   "cell_type": "markdown",
   "id": "9773c91a",
   "metadata": {},
   "source": [
    "Prepare the inputs\n",
    "To tackle the model traning part, we need to deal with categorical features, by replacing them with dummy columns. The features at hand are:\n",
    "hotel, market_segment, distribution_channel, room_assignmnt, deposit_type, is_repeated_guest"
   ]
  },
  {
   "cell_type": "code",
   "execution_count": null,
   "id": "34c93565",
   "metadata": {},
   "outputs": [],
   "source": [
    "df_clean['arrival_date_month'] = df_clean['arrival_date_month'].replace(['July','August','September','October','November','December','January',\n",
    "'February','March','April','May','June'],[7,8,9,10,11,12,1,2,3,4,5,6])"
   ]
  },
  {
   "cell_type": "code",
   "execution_count": 159,
   "id": "91fdc4f2",
   "metadata": {},
   "outputs": [],
   "source": [
    "\n",
    "df_clean['lead_time'] = df_clean['lead_time'].fillna(0)\n"
   ]
  },
  {
   "cell_type": "code",
   "execution_count": 150,
   "id": "bb484c6e",
   "metadata": {
    "scrolled": true
   },
   "outputs": [
    {
     "name": "stdout",
     "output_type": "stream",
     "text": [
      "(117386, 206)\n"
     ]
    }
   ],
   "source": [
    "bookings = df_clean[['is_canceled', 'lead_time', 'country', 'hotel', 'market_segment', 'distribution_channel', 'room_assignment', 'deposit_type', 'customer_type', 'is_repeated_guest']]\n"
   ]
  },
  {
   "cell_type": "code",
   "execution_count": 161,
   "id": "d4e21f67",
   "metadata": {
    "scrolled": false
   },
   "outputs": [
    {
     "name": "stderr",
     "output_type": "stream",
     "text": [
      "C:\\Users\\31856\\Anaconda3\\lib\\site-packages\\pandas\\core\\frame.py:5238: SettingWithCopyWarning: \n",
      "A value is trying to be set on a copy of a slice from a DataFrame\n",
      "\n",
      "See the caveats in the documentation: https://pandas.pydata.org/pandas-docs/stable/user_guide/indexing.html#returning-a-view-versus-a-copy\n",
      "  return super().replace(\n",
      "C:\\Users\\31856\\Anaconda3\\lib\\site-packages\\pandas\\util\\_decorators.py:311: SettingWithCopyWarning: \n",
      "A value is trying to be set on a copy of a slice from a DataFrame\n",
      "\n",
      "See the caveats in the documentation: https://pandas.pydata.org/pandas-docs/stable/user_guide/indexing.html#returning-a-view-versus-a-copy\n",
      "  return func(*args, **kwargs)\n"
     ]
    }
   ],
   "source": [
    "booking.replace([np.inf, -np.inf], np.nan, inplace=True)\n",
    "bookings.dropna(subset=[\"lead_time\"], how=\"all\", inplace=True)"
   ]
  },
  {
   "cell_type": "code",
   "execution_count": 164,
   "id": "080e2f99",
   "metadata": {},
   "outputs": [
    {
     "name": "stdout",
     "output_type": "stream",
     "text": [
      "(114104, 205)\n"
     ]
    }
   ],
   "source": [
    "booking_data_dummies=pd.get_dummies(data=bookings, columns=['hotel', 'country', 'market_segment', 'distribution_channel', 'room_assignment', 'deposit_type', 'customer_type', 'is_repeated_guest'])\n",
    "print(booking_data_dummies.shape)"
   ]
  },
  {
   "cell_type": "code",
   "execution_count": 165,
   "id": "9b13fd94",
   "metadata": {
    "scrolled": true
   },
   "outputs": [
    {
     "data": {
      "text/html": [
       "<div>\n",
       "<style scoped>\n",
       "    .dataframe tbody tr th:only-of-type {\n",
       "        vertical-align: middle;\n",
       "    }\n",
       "\n",
       "    .dataframe tbody tr th {\n",
       "        vertical-align: top;\n",
       "    }\n",
       "\n",
       "    .dataframe thead th {\n",
       "        text-align: right;\n",
       "    }\n",
       "</style>\n",
       "<table border=\"1\" class=\"dataframe\">\n",
       "  <thead>\n",
       "    <tr style=\"text-align: right;\">\n",
       "      <th></th>\n",
       "      <th>is_canceled</th>\n",
       "      <th>lead_time</th>\n",
       "      <th>country</th>\n",
       "      <th>hotel</th>\n",
       "      <th>market_segment</th>\n",
       "      <th>distribution_channel</th>\n",
       "      <th>room_assignment</th>\n",
       "      <th>deposit_type</th>\n",
       "      <th>customer_type</th>\n",
       "      <th>is_repeated_guest</th>\n",
       "    </tr>\n",
       "  </thead>\n",
       "  <tbody>\n",
       "    <tr>\n",
       "      <th>2</th>\n",
       "      <td>0</td>\n",
       "      <td>0.665730</td>\n",
       "      <td>GBR</td>\n",
       "      <td>Resort Hotel</td>\n",
       "      <td>Direct</td>\n",
       "      <td>Direct</td>\n",
       "      <td>False</td>\n",
       "      <td>No Deposit</td>\n",
       "      <td>Transient</td>\n",
       "      <td>0</td>\n",
       "    </tr>\n",
       "    <tr>\n",
       "      <th>3</th>\n",
       "      <td>0</td>\n",
       "      <td>0.941939</td>\n",
       "      <td>GBR</td>\n",
       "      <td>Resort Hotel</td>\n",
       "      <td>Corporate</td>\n",
       "      <td>Corporate</td>\n",
       "      <td>True</td>\n",
       "      <td>No Deposit</td>\n",
       "      <td>Transient</td>\n",
       "      <td>0</td>\n",
       "    </tr>\n",
       "    <tr>\n",
       "      <th>4</th>\n",
       "      <td>0</td>\n",
       "      <td>0.970422</td>\n",
       "      <td>GBR</td>\n",
       "      <td>Resort Hotel</td>\n",
       "      <td>Online TA</td>\n",
       "      <td>TA/TO</td>\n",
       "      <td>True</td>\n",
       "      <td>No Deposit</td>\n",
       "      <td>Transient</td>\n",
       "      <td>0</td>\n",
       "    </tr>\n",
       "    <tr>\n",
       "      <th>5</th>\n",
       "      <td>0</td>\n",
       "      <td>0.970422</td>\n",
       "      <td>GBR</td>\n",
       "      <td>Resort Hotel</td>\n",
       "      <td>Online TA</td>\n",
       "      <td>TA/TO</td>\n",
       "      <td>True</td>\n",
       "      <td>No Deposit</td>\n",
       "      <td>Transient</td>\n",
       "      <td>0</td>\n",
       "    </tr>\n",
       "    <tr>\n",
       "      <th>6</th>\n",
       "      <td>0</td>\n",
       "      <td>0.000000</td>\n",
       "      <td>PRT</td>\n",
       "      <td>Resort Hotel</td>\n",
       "      <td>Direct</td>\n",
       "      <td>Direct</td>\n",
       "      <td>True</td>\n",
       "      <td>No Deposit</td>\n",
       "      <td>Transient</td>\n",
       "      <td>0</td>\n",
       "    </tr>\n",
       "    <tr>\n",
       "      <th>7</th>\n",
       "      <td>0</td>\n",
       "      <td>0.787195</td>\n",
       "      <td>PRT</td>\n",
       "      <td>Resort Hotel</td>\n",
       "      <td>Direct</td>\n",
       "      <td>Direct</td>\n",
       "      <td>True</td>\n",
       "      <td>No Deposit</td>\n",
       "      <td>Transient</td>\n",
       "      <td>0</td>\n",
       "    </tr>\n",
       "    <tr>\n",
       "      <th>8</th>\n",
       "      <td>1</td>\n",
       "      <td>1.491251</td>\n",
       "      <td>PRT</td>\n",
       "      <td>Resort Hotel</td>\n",
       "      <td>Online TA</td>\n",
       "      <td>TA/TO</td>\n",
       "      <td>True</td>\n",
       "      <td>No Deposit</td>\n",
       "      <td>Transient</td>\n",
       "      <td>0</td>\n",
       "    </tr>\n",
       "    <tr>\n",
       "      <th>9</th>\n",
       "      <td>1</td>\n",
       "      <td>1.462674</td>\n",
       "      <td>PRT</td>\n",
       "      <td>Resort Hotel</td>\n",
       "      <td>Offline TA/TO</td>\n",
       "      <td>TA/TO</td>\n",
       "      <td>True</td>\n",
       "      <td>No Deposit</td>\n",
       "      <td>Transient</td>\n",
       "      <td>0</td>\n",
       "    </tr>\n",
       "    <tr>\n",
       "      <th>10</th>\n",
       "      <td>1</td>\n",
       "      <td>1.142787</td>\n",
       "      <td>PRT</td>\n",
       "      <td>Resort Hotel</td>\n",
       "      <td>Online TA</td>\n",
       "      <td>TA/TO</td>\n",
       "      <td>True</td>\n",
       "      <td>No Deposit</td>\n",
       "      <td>Transient</td>\n",
       "      <td>0</td>\n",
       "    </tr>\n",
       "    <tr>\n",
       "      <th>11</th>\n",
       "      <td>0</td>\n",
       "      <td>1.268453</td>\n",
       "      <td>PRT</td>\n",
       "      <td>Resort Hotel</td>\n",
       "      <td>Online TA</td>\n",
       "      <td>TA/TO</td>\n",
       "      <td>True</td>\n",
       "      <td>No Deposit</td>\n",
       "      <td>Transient</td>\n",
       "      <td>0</td>\n",
       "    </tr>\n",
       "    <tr>\n",
       "      <th>12</th>\n",
       "      <td>0</td>\n",
       "      <td>1.439718</td>\n",
       "      <td>USA</td>\n",
       "      <td>Resort Hotel</td>\n",
       "      <td>Online TA</td>\n",
       "      <td>TA/TO</td>\n",
       "      <td>False</td>\n",
       "      <td>No Deposit</td>\n",
       "      <td>Transient</td>\n",
       "      <td>0</td>\n",
       "    </tr>\n",
       "    <tr>\n",
       "      <th>13</th>\n",
       "      <td>0</td>\n",
       "      <td>1.061385</td>\n",
       "      <td>ESP</td>\n",
       "      <td>Resort Hotel</td>\n",
       "      <td>Online TA</td>\n",
       "      <td>TA/TO</td>\n",
       "      <td>True</td>\n",
       "      <td>No Deposit</td>\n",
       "      <td>Transient</td>\n",
       "      <td>0</td>\n",
       "    </tr>\n",
       "    <tr>\n",
       "      <th>14</th>\n",
       "      <td>0</td>\n",
       "      <td>1.283962</td>\n",
       "      <td>PRT</td>\n",
       "      <td>Resort Hotel</td>\n",
       "      <td>Online TA</td>\n",
       "      <td>TA/TO</td>\n",
       "      <td>True</td>\n",
       "      <td>No Deposit</td>\n",
       "      <td>Transient</td>\n",
       "      <td>0</td>\n",
       "    </tr>\n",
       "    <tr>\n",
       "      <th>15</th>\n",
       "      <td>0</td>\n",
       "      <td>1.439718</td>\n",
       "      <td>IRL</td>\n",
       "      <td>Resort Hotel</td>\n",
       "      <td>Online TA</td>\n",
       "      <td>TA/TO</td>\n",
       "      <td>False</td>\n",
       "      <td>No Deposit</td>\n",
       "      <td>Transient</td>\n",
       "      <td>0</td>\n",
       "    </tr>\n",
       "    <tr>\n",
       "      <th>16</th>\n",
       "      <td>0</td>\n",
       "      <td>1.283962</td>\n",
       "      <td>PRT</td>\n",
       "      <td>Resort Hotel</td>\n",
       "      <td>Offline TA/TO</td>\n",
       "      <td>TA/TO</td>\n",
       "      <td>True</td>\n",
       "      <td>No Deposit</td>\n",
       "      <td>Contract</td>\n",
       "      <td>0</td>\n",
       "    </tr>\n",
       "    <tr>\n",
       "      <th>17</th>\n",
       "      <td>0</td>\n",
       "      <td>0.910235</td>\n",
       "      <td>IRL</td>\n",
       "      <td>Resort Hotel</td>\n",
       "      <td>Online TA</td>\n",
       "      <td>TA/TO</td>\n",
       "      <td>False</td>\n",
       "      <td>No Deposit</td>\n",
       "      <td>Transient</td>\n",
       "      <td>0</td>\n",
       "    </tr>\n",
       "    <tr>\n",
       "      <th>18</th>\n",
       "      <td>0</td>\n",
       "      <td>0.000000</td>\n",
       "      <td>FRA</td>\n",
       "      <td>Resort Hotel</td>\n",
       "      <td>Corporate</td>\n",
       "      <td>Corporate</td>\n",
       "      <td>False</td>\n",
       "      <td>No Deposit</td>\n",
       "      <td>Transient</td>\n",
       "      <td>0</td>\n",
       "    </tr>\n",
       "    <tr>\n",
       "      <th>19</th>\n",
       "      <td>0</td>\n",
       "      <td>0.665730</td>\n",
       "      <td>GBR</td>\n",
       "      <td>Resort Hotel</td>\n",
       "      <td>Direct</td>\n",
       "      <td>Direct</td>\n",
       "      <td>True</td>\n",
       "      <td>No Deposit</td>\n",
       "      <td>Transient</td>\n",
       "      <td>0</td>\n",
       "    </tr>\n",
       "    <tr>\n",
       "      <th>20</th>\n",
       "      <td>0</td>\n",
       "      <td>1.283962</td>\n",
       "      <td>GBR</td>\n",
       "      <td>Resort Hotel</td>\n",
       "      <td>Online TA</td>\n",
       "      <td>TA/TO</td>\n",
       "      <td>True</td>\n",
       "      <td>No Deposit</td>\n",
       "      <td>Transient</td>\n",
       "      <td>0</td>\n",
       "    </tr>\n",
       "    <tr>\n",
       "      <th>21</th>\n",
       "      <td>0</td>\n",
       "      <td>1.453174</td>\n",
       "      <td>PRT</td>\n",
       "      <td>Resort Hotel</td>\n",
       "      <td>Direct</td>\n",
       "      <td>Direct</td>\n",
       "      <td>True</td>\n",
       "      <td>No Deposit</td>\n",
       "      <td>Transient</td>\n",
       "      <td>0</td>\n",
       "    </tr>\n",
       "  </tbody>\n",
       "</table>\n",
       "</div>"
      ],
      "text/plain": [
       "    is_canceled  lead_time country         hotel market_segment  \\\n",
       "2             0   0.665730     GBR  Resort Hotel         Direct   \n",
       "3             0   0.941939     GBR  Resort Hotel      Corporate   \n",
       "4             0   0.970422     GBR  Resort Hotel      Online TA   \n",
       "5             0   0.970422     GBR  Resort Hotel      Online TA   \n",
       "6             0   0.000000     PRT  Resort Hotel         Direct   \n",
       "7             0   0.787195     PRT  Resort Hotel         Direct   \n",
       "8             1   1.491251     PRT  Resort Hotel      Online TA   \n",
       "9             1   1.462674     PRT  Resort Hotel  Offline TA/TO   \n",
       "10            1   1.142787     PRT  Resort Hotel      Online TA   \n",
       "11            0   1.268453     PRT  Resort Hotel      Online TA   \n",
       "12            0   1.439718     USA  Resort Hotel      Online TA   \n",
       "13            0   1.061385     ESP  Resort Hotel      Online TA   \n",
       "14            0   1.283962     PRT  Resort Hotel      Online TA   \n",
       "15            0   1.439718     IRL  Resort Hotel      Online TA   \n",
       "16            0   1.283962     PRT  Resort Hotel  Offline TA/TO   \n",
       "17            0   0.910235     IRL  Resort Hotel      Online TA   \n",
       "18            0   0.000000     FRA  Resort Hotel      Corporate   \n",
       "19            0   0.665730     GBR  Resort Hotel         Direct   \n",
       "20            0   1.283962     GBR  Resort Hotel      Online TA   \n",
       "21            0   1.453174     PRT  Resort Hotel         Direct   \n",
       "\n",
       "   distribution_channel  room_assignment deposit_type customer_type  \\\n",
       "2                Direct            False   No Deposit     Transient   \n",
       "3             Corporate             True   No Deposit     Transient   \n",
       "4                 TA/TO             True   No Deposit     Transient   \n",
       "5                 TA/TO             True   No Deposit     Transient   \n",
       "6                Direct             True   No Deposit     Transient   \n",
       "7                Direct             True   No Deposit     Transient   \n",
       "8                 TA/TO             True   No Deposit     Transient   \n",
       "9                 TA/TO             True   No Deposit     Transient   \n",
       "10                TA/TO             True   No Deposit     Transient   \n",
       "11                TA/TO             True   No Deposit     Transient   \n",
       "12                TA/TO            False   No Deposit     Transient   \n",
       "13                TA/TO             True   No Deposit     Transient   \n",
       "14                TA/TO             True   No Deposit     Transient   \n",
       "15                TA/TO            False   No Deposit     Transient   \n",
       "16                TA/TO             True   No Deposit      Contract   \n",
       "17                TA/TO            False   No Deposit     Transient   \n",
       "18            Corporate            False   No Deposit     Transient   \n",
       "19               Direct             True   No Deposit     Transient   \n",
       "20                TA/TO             True   No Deposit     Transient   \n",
       "21               Direct             True   No Deposit     Transient   \n",
       "\n",
       "    is_repeated_guest  \n",
       "2                   0  \n",
       "3                   0  \n",
       "4                   0  \n",
       "5                   0  \n",
       "6                   0  \n",
       "7                   0  \n",
       "8                   0  \n",
       "9                   0  \n",
       "10                  0  \n",
       "11                  0  \n",
       "12                  0  \n",
       "13                  0  \n",
       "14                  0  \n",
       "15                  0  \n",
       "16                  0  \n",
       "17                  0  \n",
       "18                  0  \n",
       "19                  0  \n",
       "20                  0  \n",
       "21                  0  "
      ]
     },
     "execution_count": 165,
     "metadata": {},
     "output_type": "execute_result"
    }
   ],
   "source": [
    "bookings.head(20)"
   ]
  },
  {
   "cell_type": "code",
   "execution_count": 166,
   "id": "64cd5fb7",
   "metadata": {
    "scrolled": true
   },
   "outputs": [
    {
     "data": {
      "text/html": [
       "<div>\n",
       "<style scoped>\n",
       "    .dataframe tbody tr th:only-of-type {\n",
       "        vertical-align: middle;\n",
       "    }\n",
       "\n",
       "    .dataframe tbody tr th {\n",
       "        vertical-align: top;\n",
       "    }\n",
       "\n",
       "    .dataframe thead th {\n",
       "        text-align: right;\n",
       "    }\n",
       "</style>\n",
       "<table border=\"1\" class=\"dataframe\">\n",
       "  <thead>\n",
       "    <tr style=\"text-align: right;\">\n",
       "      <th></th>\n",
       "      <th>is_canceled</th>\n",
       "      <th>lead_time</th>\n",
       "      <th>hotel_City Hotel</th>\n",
       "      <th>hotel_Resort Hotel</th>\n",
       "      <th>country_ABW</th>\n",
       "      <th>country_AGO</th>\n",
       "      <th>country_AIA</th>\n",
       "      <th>country_ALB</th>\n",
       "      <th>country_AND</th>\n",
       "      <th>country_ARE</th>\n",
       "      <th>...</th>\n",
       "      <th>room_assignment_True</th>\n",
       "      <th>deposit_type_No Deposit</th>\n",
       "      <th>deposit_type_Non Refund</th>\n",
       "      <th>deposit_type_Refundable</th>\n",
       "      <th>customer_type_Contract</th>\n",
       "      <th>customer_type_Group</th>\n",
       "      <th>customer_type_Transient</th>\n",
       "      <th>customer_type_Transient-Party</th>\n",
       "      <th>is_repeated_guest_0</th>\n",
       "      <th>is_repeated_guest_1</th>\n",
       "    </tr>\n",
       "  </thead>\n",
       "  <tbody>\n",
       "    <tr>\n",
       "      <th>2</th>\n",
       "      <td>0</td>\n",
       "      <td>0.665730</td>\n",
       "      <td>0</td>\n",
       "      <td>1</td>\n",
       "      <td>0</td>\n",
       "      <td>0</td>\n",
       "      <td>0</td>\n",
       "      <td>0</td>\n",
       "      <td>0</td>\n",
       "      <td>0</td>\n",
       "      <td>...</td>\n",
       "      <td>0</td>\n",
       "      <td>1</td>\n",
       "      <td>0</td>\n",
       "      <td>0</td>\n",
       "      <td>0</td>\n",
       "      <td>0</td>\n",
       "      <td>1</td>\n",
       "      <td>0</td>\n",
       "      <td>1</td>\n",
       "      <td>0</td>\n",
       "    </tr>\n",
       "    <tr>\n",
       "      <th>3</th>\n",
       "      <td>0</td>\n",
       "      <td>0.941939</td>\n",
       "      <td>0</td>\n",
       "      <td>1</td>\n",
       "      <td>0</td>\n",
       "      <td>0</td>\n",
       "      <td>0</td>\n",
       "      <td>0</td>\n",
       "      <td>0</td>\n",
       "      <td>0</td>\n",
       "      <td>...</td>\n",
       "      <td>1</td>\n",
       "      <td>1</td>\n",
       "      <td>0</td>\n",
       "      <td>0</td>\n",
       "      <td>0</td>\n",
       "      <td>0</td>\n",
       "      <td>1</td>\n",
       "      <td>0</td>\n",
       "      <td>1</td>\n",
       "      <td>0</td>\n",
       "    </tr>\n",
       "    <tr>\n",
       "      <th>4</th>\n",
       "      <td>0</td>\n",
       "      <td>0.970422</td>\n",
       "      <td>0</td>\n",
       "      <td>1</td>\n",
       "      <td>0</td>\n",
       "      <td>0</td>\n",
       "      <td>0</td>\n",
       "      <td>0</td>\n",
       "      <td>0</td>\n",
       "      <td>0</td>\n",
       "      <td>...</td>\n",
       "      <td>1</td>\n",
       "      <td>1</td>\n",
       "      <td>0</td>\n",
       "      <td>0</td>\n",
       "      <td>0</td>\n",
       "      <td>0</td>\n",
       "      <td>1</td>\n",
       "      <td>0</td>\n",
       "      <td>1</td>\n",
       "      <td>0</td>\n",
       "    </tr>\n",
       "    <tr>\n",
       "      <th>5</th>\n",
       "      <td>0</td>\n",
       "      <td>0.970422</td>\n",
       "      <td>0</td>\n",
       "      <td>1</td>\n",
       "      <td>0</td>\n",
       "      <td>0</td>\n",
       "      <td>0</td>\n",
       "      <td>0</td>\n",
       "      <td>0</td>\n",
       "      <td>0</td>\n",
       "      <td>...</td>\n",
       "      <td>1</td>\n",
       "      <td>1</td>\n",
       "      <td>0</td>\n",
       "      <td>0</td>\n",
       "      <td>0</td>\n",
       "      <td>0</td>\n",
       "      <td>1</td>\n",
       "      <td>0</td>\n",
       "      <td>1</td>\n",
       "      <td>0</td>\n",
       "    </tr>\n",
       "    <tr>\n",
       "      <th>6</th>\n",
       "      <td>0</td>\n",
       "      <td>0.000000</td>\n",
       "      <td>0</td>\n",
       "      <td>1</td>\n",
       "      <td>0</td>\n",
       "      <td>0</td>\n",
       "      <td>0</td>\n",
       "      <td>0</td>\n",
       "      <td>0</td>\n",
       "      <td>0</td>\n",
       "      <td>...</td>\n",
       "      <td>1</td>\n",
       "      <td>1</td>\n",
       "      <td>0</td>\n",
       "      <td>0</td>\n",
       "      <td>0</td>\n",
       "      <td>0</td>\n",
       "      <td>1</td>\n",
       "      <td>0</td>\n",
       "      <td>1</td>\n",
       "      <td>0</td>\n",
       "    </tr>\n",
       "    <tr>\n",
       "      <th>7</th>\n",
       "      <td>0</td>\n",
       "      <td>0.787195</td>\n",
       "      <td>0</td>\n",
       "      <td>1</td>\n",
       "      <td>0</td>\n",
       "      <td>0</td>\n",
       "      <td>0</td>\n",
       "      <td>0</td>\n",
       "      <td>0</td>\n",
       "      <td>0</td>\n",
       "      <td>...</td>\n",
       "      <td>1</td>\n",
       "      <td>1</td>\n",
       "      <td>0</td>\n",
       "      <td>0</td>\n",
       "      <td>0</td>\n",
       "      <td>0</td>\n",
       "      <td>1</td>\n",
       "      <td>0</td>\n",
       "      <td>1</td>\n",
       "      <td>0</td>\n",
       "    </tr>\n",
       "    <tr>\n",
       "      <th>8</th>\n",
       "      <td>1</td>\n",
       "      <td>1.491251</td>\n",
       "      <td>0</td>\n",
       "      <td>1</td>\n",
       "      <td>0</td>\n",
       "      <td>0</td>\n",
       "      <td>0</td>\n",
       "      <td>0</td>\n",
       "      <td>0</td>\n",
       "      <td>0</td>\n",
       "      <td>...</td>\n",
       "      <td>1</td>\n",
       "      <td>1</td>\n",
       "      <td>0</td>\n",
       "      <td>0</td>\n",
       "      <td>0</td>\n",
       "      <td>0</td>\n",
       "      <td>1</td>\n",
       "      <td>0</td>\n",
       "      <td>1</td>\n",
       "      <td>0</td>\n",
       "    </tr>\n",
       "    <tr>\n",
       "      <th>9</th>\n",
       "      <td>1</td>\n",
       "      <td>1.462674</td>\n",
       "      <td>0</td>\n",
       "      <td>1</td>\n",
       "      <td>0</td>\n",
       "      <td>0</td>\n",
       "      <td>0</td>\n",
       "      <td>0</td>\n",
       "      <td>0</td>\n",
       "      <td>0</td>\n",
       "      <td>...</td>\n",
       "      <td>1</td>\n",
       "      <td>1</td>\n",
       "      <td>0</td>\n",
       "      <td>0</td>\n",
       "      <td>0</td>\n",
       "      <td>0</td>\n",
       "      <td>1</td>\n",
       "      <td>0</td>\n",
       "      <td>1</td>\n",
       "      <td>0</td>\n",
       "    </tr>\n",
       "    <tr>\n",
       "      <th>10</th>\n",
       "      <td>1</td>\n",
       "      <td>1.142787</td>\n",
       "      <td>0</td>\n",
       "      <td>1</td>\n",
       "      <td>0</td>\n",
       "      <td>0</td>\n",
       "      <td>0</td>\n",
       "      <td>0</td>\n",
       "      <td>0</td>\n",
       "      <td>0</td>\n",
       "      <td>...</td>\n",
       "      <td>1</td>\n",
       "      <td>1</td>\n",
       "      <td>0</td>\n",
       "      <td>0</td>\n",
       "      <td>0</td>\n",
       "      <td>0</td>\n",
       "      <td>1</td>\n",
       "      <td>0</td>\n",
       "      <td>1</td>\n",
       "      <td>0</td>\n",
       "    </tr>\n",
       "    <tr>\n",
       "      <th>11</th>\n",
       "      <td>0</td>\n",
       "      <td>1.268453</td>\n",
       "      <td>0</td>\n",
       "      <td>1</td>\n",
       "      <td>0</td>\n",
       "      <td>0</td>\n",
       "      <td>0</td>\n",
       "      <td>0</td>\n",
       "      <td>0</td>\n",
       "      <td>0</td>\n",
       "      <td>...</td>\n",
       "      <td>1</td>\n",
       "      <td>1</td>\n",
       "      <td>0</td>\n",
       "      <td>0</td>\n",
       "      <td>0</td>\n",
       "      <td>0</td>\n",
       "      <td>1</td>\n",
       "      <td>0</td>\n",
       "      <td>1</td>\n",
       "      <td>0</td>\n",
       "    </tr>\n",
       "  </tbody>\n",
       "</table>\n",
       "<p>10 rows × 205 columns</p>\n",
       "</div>"
      ],
      "text/plain": [
       "    is_canceled  lead_time  hotel_City Hotel  hotel_Resort Hotel  country_ABW  \\\n",
       "2             0   0.665730                 0                   1            0   \n",
       "3             0   0.941939                 0                   1            0   \n",
       "4             0   0.970422                 0                   1            0   \n",
       "5             0   0.970422                 0                   1            0   \n",
       "6             0   0.000000                 0                   1            0   \n",
       "7             0   0.787195                 0                   1            0   \n",
       "8             1   1.491251                 0                   1            0   \n",
       "9             1   1.462674                 0                   1            0   \n",
       "10            1   1.142787                 0                   1            0   \n",
       "11            0   1.268453                 0                   1            0   \n",
       "\n",
       "    country_AGO  country_AIA  country_ALB  country_AND  country_ARE  ...  \\\n",
       "2             0            0            0            0            0  ...   \n",
       "3             0            0            0            0            0  ...   \n",
       "4             0            0            0            0            0  ...   \n",
       "5             0            0            0            0            0  ...   \n",
       "6             0            0            0            0            0  ...   \n",
       "7             0            0            0            0            0  ...   \n",
       "8             0            0            0            0            0  ...   \n",
       "9             0            0            0            0            0  ...   \n",
       "10            0            0            0            0            0  ...   \n",
       "11            0            0            0            0            0  ...   \n",
       "\n",
       "    room_assignment_True  deposit_type_No Deposit  deposit_type_Non Refund  \\\n",
       "2                      0                        1                        0   \n",
       "3                      1                        1                        0   \n",
       "4                      1                        1                        0   \n",
       "5                      1                        1                        0   \n",
       "6                      1                        1                        0   \n",
       "7                      1                        1                        0   \n",
       "8                      1                        1                        0   \n",
       "9                      1                        1                        0   \n",
       "10                     1                        1                        0   \n",
       "11                     1                        1                        0   \n",
       "\n",
       "    deposit_type_Refundable  customer_type_Contract  customer_type_Group  \\\n",
       "2                         0                       0                    0   \n",
       "3                         0                       0                    0   \n",
       "4                         0                       0                    0   \n",
       "5                         0                       0                    0   \n",
       "6                         0                       0                    0   \n",
       "7                         0                       0                    0   \n",
       "8                         0                       0                    0   \n",
       "9                         0                       0                    0   \n",
       "10                        0                       0                    0   \n",
       "11                        0                       0                    0   \n",
       "\n",
       "    customer_type_Transient  customer_type_Transient-Party  \\\n",
       "2                         1                              0   \n",
       "3                         1                              0   \n",
       "4                         1                              0   \n",
       "5                         1                              0   \n",
       "6                         1                              0   \n",
       "7                         1                              0   \n",
       "8                         1                              0   \n",
       "9                         1                              0   \n",
       "10                        1                              0   \n",
       "11                        1                              0   \n",
       "\n",
       "    is_repeated_guest_0  is_repeated_guest_1  \n",
       "2                     1                    0  \n",
       "3                     1                    0  \n",
       "4                     1                    0  \n",
       "5                     1                    0  \n",
       "6                     1                    0  \n",
       "7                     1                    0  \n",
       "8                     1                    0  \n",
       "9                     1                    0  \n",
       "10                    1                    0  \n",
       "11                    1                    0  \n",
       "\n",
       "[10 rows x 205 columns]"
      ]
     },
     "execution_count": 166,
     "metadata": {},
     "output_type": "execute_result"
    }
   ],
   "source": [
    "booking_data_dummies.head(10)"
   ]
  },
  {
   "cell_type": "code",
   "execution_count": 163,
   "id": "bf26ec09",
   "metadata": {},
   "outputs": [
    {
     "name": "stdout",
     "output_type": "stream",
     "text": [
      "         is_canceled     lead_time  hotel_City Hotel  hotel_Resort Hotel  \\\n",
      "count  117386.000000  1.173860e+05     117386.000000       117386.000000   \n",
      "mean        0.374900          -inf          0.665139            0.334861   \n",
      "std         0.484099           NaN          0.471944            0.471944   \n",
      "min         0.000000          -inf          0.000000            0.000000   \n",
      "25%         0.000000  1.079918e+00          0.000000            0.000000   \n",
      "50%         0.000000  1.449898e+00          1.000000            0.000000   \n",
      "75%         1.000000  1.626805e+00          1.000000            1.000000   \n",
      "max         1.000000  1.881578e+00          1.000000            1.000000   \n",
      "\n",
      "         country_ABW    country_AGO    country_AIA    country_ALB  \\\n",
      "count  117386.000000  117386.000000  117386.000000  117386.000000   \n",
      "mean        0.000017       0.003024       0.000009       0.000102   \n",
      "std         0.004128       0.054910       0.002919       0.010110   \n",
      "min         0.000000       0.000000       0.000000       0.000000   \n",
      "25%         0.000000       0.000000       0.000000       0.000000   \n",
      "50%         0.000000       0.000000       0.000000       0.000000   \n",
      "75%         0.000000       0.000000       0.000000       0.000000   \n",
      "max         1.000000       1.000000       1.000000       1.000000   \n",
      "\n",
      "         country_AND    country_ARE  ...  room_assignment_True  \\\n",
      "count  117386.000000  117386.000000  ...         117386.000000   \n",
      "mean        0.000060       0.000426  ...              0.880079   \n",
      "std         0.007722       0.020634  ...              0.324870   \n",
      "min         0.000000       0.000000  ...              0.000000   \n",
      "25%         0.000000       0.000000  ...              1.000000   \n",
      "50%         0.000000       0.000000  ...              1.000000   \n",
      "75%         0.000000       0.000000  ...              1.000000   \n",
      "max         1.000000       1.000000  ...              1.000000   \n",
      "\n",
      "       deposit_type_No Deposit  deposit_type_Non Refund  \\\n",
      "count            117386.000000            117386.000000   \n",
      "mean                  0.874355                 0.124265   \n",
      "std                   0.331451                 0.329885   \n",
      "min                   0.000000                 0.000000   \n",
      "25%                   1.000000                 0.000000   \n",
      "50%                   1.000000                 0.000000   \n",
      "75%                   1.000000                 0.000000   \n",
      "max                   1.000000                 1.000000   \n",
      "\n",
      "       deposit_type_Refundable  customer_type_Contract  customer_type_Group  \\\n",
      "count            117386.000000           117386.000000        117386.000000   \n",
      "mean                  0.001380                0.034519             0.004626   \n",
      "std                   0.037124                0.182558             0.067856   \n",
      "min                   0.000000                0.000000             0.000000   \n",
      "25%                   0.000000                0.000000             0.000000   \n",
      "50%                   0.000000                0.000000             0.000000   \n",
      "75%                   0.000000                0.000000             0.000000   \n",
      "max                   1.000000                1.000000             1.000000   \n",
      "\n",
      "       customer_type_Transient  customer_type_Transient-Party  \\\n",
      "count            117386.000000                  117386.000000   \n",
      "mean                  0.750805                       0.210051   \n",
      "std                   0.432549                       0.407346   \n",
      "min                   0.000000                       0.000000   \n",
      "25%                   1.000000                       0.000000   \n",
      "50%                   1.000000                       0.000000   \n",
      "75%                   1.000000                       0.000000   \n",
      "max                   1.000000                       1.000000   \n",
      "\n",
      "       is_repeated_guest_0  is_repeated_guest_1  \n",
      "count        117386.000000        117386.000000  \n",
      "mean              0.972126             0.027874  \n",
      "std               0.164612             0.164612  \n",
      "min               0.000000             0.000000  \n",
      "25%               1.000000             0.000000  \n",
      "50%               1.000000             0.000000  \n",
      "75%               1.000000             0.000000  \n",
      "max               1.000000             1.000000  \n",
      "\n",
      "[8 rows x 206 columns]\n"
     ]
    }
   ],
   "source": [
    "print(booking_data_dummies.describe())"
   ]
  },
  {
   "cell_type": "markdown",
   "id": "95ebc15c",
   "metadata": {},
   "source": [
    "Then, we need to split the dataframe into features (booking columns) and the label to predict ('is_canceled'). Next, we will split the dataframe into a training set (X_train and y_train) and a test set (X_test and y_test)"
   ]
  },
  {
   "cell_type": "code",
   "execution_count": 167,
   "id": "7d4cac5a",
   "metadata": {},
   "outputs": [],
   "source": [
    "X = booking_data_dummies.drop(['is_canceled'], axis=1).values\n",
    "y = booking_data_dummies.is_canceled\n",
    "X_train, X_test, y_train, y_test = train_test_split(X, y, test_size=0.3, random_state=7)"
   ]
  },
  {
   "cell_type": "markdown",
   "id": "ef2c19dc",
   "metadata": {},
   "source": [
    "Prepare the model\n",
    "By preparing the model, we mean choosing the algorithm, instantiating it and then fitting it to the training set. The algorithms that are suited for the problem at hand, which is a classification, are the following:\n",
    "\n",
    "- Decision trees (CART)\n",
    "- KNN (with confusion matrix)\n",
    "- Logistic regression (with ROC)\n",
    "- A boosted model with a combination of all the above.\n"
   ]
  },
  {
   "cell_type": "markdown",
   "id": "bb295a0a",
   "metadata": {},
   "source": [
    "**Decision Tree Classifier**"
   ]
  },
  {
   "cell_type": "code",
   "execution_count": 168,
   "id": "2a0fd6a5",
   "metadata": {},
   "outputs": [
    {
     "name": "stdout",
     "output_type": "stream",
     "text": [
      "Score : 0.812105632157046\n"
     ]
    }
   ],
   "source": [
    "model_t = DecisionTreeClassifier(criterion='entropy', random_state=7)\n",
    "model_t.fit(X_train, y_train)\n",
    "y_pred = model_t.predict(X_test)\n",
    "print('Score :', accuracy_score(y_test, y_pred))"
   ]
  },
  {
   "cell_type": "markdown",
   "id": "a74745e2",
   "metadata": {},
   "source": [
    "With the use of GridSearchCV, it is clear that increasing the 'max_depth' parameter increases the model accuracy without finding an optimum. So the choice will be trade-off between execution time and score improvemen"
   ]
  },
  {
   "cell_type": "markdown",
   "id": "5554ea5a",
   "metadata": {},
   "source": [
    "**K-Nearest Neighbors**"
   ]
  },
  {
   "cell_type": "code",
   "execution_count": null,
   "id": "de0114e0",
   "metadata": {},
   "outputs": [],
   "source": [
    "model_k = KNN(n_neighbors=4)\n",
    "model_k.fit(X_train, y_train)\n",
    "y_pred = model_k.predict(X_test)\n",
    "print('Score :', accuracy_score(y_test, y_pred))"
   ]
  },
  {
   "cell_type": "markdown",
   "id": "40d238ac",
   "metadata": {},
   "source": [
    "**Logistic Regression**"
   ]
  },
  {
   "cell_type": "code",
   "execution_count": null,
   "id": "dc510ed3",
   "metadata": {},
   "outputs": [],
   "source": [
    "model_l = LogisticRegression(random_state=7, solver='liblinear')\n",
    "model_l.fit(X_train, y_train)\n",
    "y_pred = model_l.predict(X_test)\n",
    "print('Score :', accuracy_score(y_test, y_pred))"
   ]
  },
  {
   "cell_type": "markdown",
   "id": "46acc8bf",
   "metadata": {},
   "source": [
    "**Voting Classifier**"
   ]
  },
  {
   "cell_type": "code",
   "execution_count": null,
   "id": "6880716c",
   "metadata": {},
   "outputs": [],
   "source": [
    "classifiers = [('Logistic Regression', model_l),\n",
    "('K Nearest Neighbours', model_k),\n",
    "('Classification Tree', model_t)]\n",
    "vc = VotingClassifier(estimators=classifiers)\n",
    "vc.fit(X_train, y_train)\n",
    "y_pred = vc.predict(X_test)\n",
    "print('Voting Classifier: {:.3f}'.format(accuracy_score(y_test, y_pred)))"
   ]
  },
  {
   "cell_type": "markdown",
   "id": "b0df5642",
   "metadata": {},
   "source": [
    "**Bagging Classifier**"
   ]
  },
  {
   "cell_type": "code",
   "execution_count": null,
   "id": "a4d720fb",
   "metadata": {},
   "outputs": [],
   "source": [
    "bc = BaggingClassifier(base_estimator=model_l, n_estimators=100)\n",
    "bc.fit(X_train, y_train)\n",
    "y_pred = bc.predict(X_test)\n",
    "accuracy = accuracy_score(y_test, y_pred)\n",
    "print('Accuracy of Bagging Classifier: {:.3f}'.format(accuracy)"
   ]
  },
  {
   "cell_type": "markdown",
   "id": "7033cdba",
   "metadata": {},
   "source": [
    "**Random Forest**"
   ]
  },
  {
   "cell_type": "code",
   "execution_count": null,
   "id": "d97d2792",
   "metadata": {},
   "outputs": [],
   "source": [
    "rf = RandomForestClassifier(n_estimators=400, random_state=7)\n",
    "rf.fit(X_train, y_train)\n",
    "y_pred = rf.predict(X_test)\n",
    "accuracy = accuracy_score(y_test, y_pred)"
   ]
  },
  {
   "cell_type": "code",
   "execution_count": null,
   "id": "6618ba3c",
   "metadata": {},
   "outputs": [],
   "source": [
    "print('Accuracy of Random Forest Classifier: {:.3f}'.format(accuracy))"
   ]
  },
  {
   "cell_type": "markdown",
   "id": "16c946bf",
   "metadata": {},
   "source": [
    "So far, the best strategy to predict the outcomes of bookings was adaptive boosting on Decision trees, which yields a score as high as 85%. In real life, we wouldn't go the management comittee of the holtel chain to tell them that the model predicts the fulfillment of reservations 85% of the time, as this would mean nothing and everything. One obvious comment would be on the ability of the model to predict impact on revenues, aka bottom line numbers."
   ]
  },
  {
   "cell_type": "code",
   "execution_count": 78,
   "id": "895c2232",
   "metadata": {},
   "outputs": [
    {
     "name": "stdout",
     "output_type": "stream",
     "text": [
      "The actual month revenue if between 1.62 and 0.62 of the predicted sum.\n"
     ]
    }
   ],
   "source": [
    "booking_sample = df_clean.sample(4420).sort_values(by='bill', ascending=False)\n",
    "booking_sample.bill.sum()\n",
    "booking_sample_0 = booking_sample[booking_sample['is_canceled']==0].sort_values(by='bill', ascending=False).head(int(4420*0.113)).bill.sum()\n",
    "booking_sample_1 = booking_sample[booking_sample['is_canceled']==1].sort_values(by='bill', ascending=False).head(int(4420*0.113)).bill.sum()\n",
    "upper_bound = booking_sample.bill.sum() + booking_sample_0\n",
    "lower_bound = booking_sample.bill.sum() - booking_sample_1\n",
    "print('The actual month revenue if between %.2f and %.2f of the predicted sum.' %(upper_bound/booking_sample.bill.sum(), lower_bound/booking_sample.bill.sum()))"
   ]
  },
  {
   "cell_type": "markdown",
   "id": "9cae3e21",
   "metadata": {},
   "source": [
    "To recap we've just done, we took the mean count of bookings the hotels may get on a regular month. We supposed the worst case scenarios are the ones where the wrong predictions are on the reservations with the biggest bills.\n",
    "Since the model is 88.7% accurate, we suppose that in one scenario we have the wrong predictions on 11% of the bookings that were actually canceled, this will give us false hope of redeeming the corresponding value (lower bound), and vice versa (scenario where we wrongly assume that the most important 11% of the bookings are going to be canceled, when in fact they will be fulfilled, thus offsetting the total revenue to the upper bound). In conclusion, our model of 88.7% accuracy only helps in predicting the revenue to a whopping +/- 25%. Further statistical significance testing is required (p-values) to determine whether the revenue prediction can be narrowed down to a smaller interval.\n",
    "\n",
    "Another use of the prediction model would be to intentionally overbook the establishments in peak season, to compensate for the bookings to-be-canceled. Given that cancellation rates have a mean of 40% in peak months, we can use this rate to overbook, whenever the predicted fulfilled bookings reach nominal hotel capacity. To adjust for the error of the model, we suppose that 11.3% of the bookings predicted to-be-canceled are going to turn up at the hotel counter once the reserved date comes, and deduct the number from the overbooked capacity."
   ]
  },
  {
   "cell_type": "code",
   "execution_count": 79,
   "id": "b61a5bf8",
   "metadata": {},
   "outputs": [
    {
     "name": "stdout",
     "output_type": "stream",
     "text": [
      "* All in all, a rough calculation to optimally overbook the establishment at peak seasons is 147 %\n"
     ]
    }
   ],
   "source": [
    "print('* All in all, a rough calculation to optimally overbook the establishment at peak seasons is', int(88.7/0.6),'%')"
   ]
  },
  {
   "cell_type": "code",
   "execution_count": null,
   "id": "b46eb6c7",
   "metadata": {},
   "outputs": [],
   "source": []
  }
 ],
 "metadata": {
  "kernelspec": {
   "display_name": "Python 3 (ipykernel)",
   "language": "python",
   "name": "python3"
  },
  "language_info": {
   "codemirror_mode": {
    "name": "ipython",
    "version": 3
   },
   "file_extension": ".py",
   "mimetype": "text/x-python",
   "name": "python",
   "nbconvert_exporter": "python",
   "pygments_lexer": "ipython3",
   "version": "3.9.7"
  }
 },
 "nbformat": 4,
 "nbformat_minor": 5
}
